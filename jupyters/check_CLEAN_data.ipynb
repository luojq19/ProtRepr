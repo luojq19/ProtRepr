{
 "cells": [
  {
   "cell_type": "code",
   "execution_count": 9,
   "metadata": {},
   "outputs": [
    {
     "data": {
      "text/html": [
       "<div>\n",
       "<style scoped>\n",
       "    .dataframe tbody tr th:only-of-type {\n",
       "        vertical-align: middle;\n",
       "    }\n",
       "\n",
       "    .dataframe tbody tr th {\n",
       "        vertical-align: top;\n",
       "    }\n",
       "\n",
       "    .dataframe thead th {\n",
       "        text-align: right;\n",
       "    }\n",
       "</style>\n",
       "<table border=\"1\" class=\"dataframe\">\n",
       "  <thead>\n",
       "    <tr style=\"text-align: right;\">\n",
       "      <th></th>\n",
       "      <th>Entry</th>\n",
       "      <th>EC number</th>\n",
       "      <th>Date of creation</th>\n",
       "    </tr>\n",
       "  </thead>\n",
       "  <tbody>\n",
       "    <tr>\n",
       "      <th>0</th>\n",
       "      <td>A0A009IHW8</td>\n",
       "      <td>3.2.2.6</td>\n",
       "      <td>2020-02-26</td>\n",
       "    </tr>\n",
       "    <tr>\n",
       "      <th>1</th>\n",
       "      <td>A0A023I7E1</td>\n",
       "      <td>3.2.1.39</td>\n",
       "      <td>2022-12-14</td>\n",
       "    </tr>\n",
       "    <tr>\n",
       "      <th>2</th>\n",
       "      <td>A0A024SC78</td>\n",
       "      <td>3.1.1.74</td>\n",
       "      <td>2022-05-25</td>\n",
       "    </tr>\n",
       "    <tr>\n",
       "      <th>3</th>\n",
       "      <td>A0A024SH76</td>\n",
       "      <td>3.2.1.91</td>\n",
       "      <td>2017-08-30</td>\n",
       "    </tr>\n",
       "    <tr>\n",
       "      <th>4</th>\n",
       "      <td>A0A044RE18</td>\n",
       "      <td>3.4.21.75</td>\n",
       "      <td>2017-05-10</td>\n",
       "    </tr>\n",
       "    <tr>\n",
       "      <th>...</th>\n",
       "      <td>...</td>\n",
       "      <td>...</td>\n",
       "      <td>...</td>\n",
       "    </tr>\n",
       "    <tr>\n",
       "      <th>228546</th>\n",
       "      <td>Q6HX62</td>\n",
       "      <td>3.5.4.2</td>\n",
       "      <td>2004-08-16</td>\n",
       "    </tr>\n",
       "    <tr>\n",
       "      <th>228547</th>\n",
       "      <td>Q6L032</td>\n",
       "      <td>3.5.4.2</td>\n",
       "      <td>2004-08-16</td>\n",
       "    </tr>\n",
       "    <tr>\n",
       "      <th>228548</th>\n",
       "      <td>Q85055</td>\n",
       "      <td>2.7.7.48</td>\n",
       "      <td>2011-01-11</td>\n",
       "    </tr>\n",
       "    <tr>\n",
       "      <th>228549</th>\n",
       "      <td>Q94MV8</td>\n",
       "      <td>3.6.1.12</td>\n",
       "      <td>2004-08-16</td>\n",
       "    </tr>\n",
       "    <tr>\n",
       "      <th>228550</th>\n",
       "      <td>Q9J5H2</td>\n",
       "      <td>3.1.1.29</td>\n",
       "      <td>2001-08-29</td>\n",
       "    </tr>\n",
       "  </tbody>\n",
       "</table>\n",
       "<p>228551 rows × 3 columns</p>\n",
       "</div>"
      ],
      "text/plain": [
       "             Entry  EC number Date of creation\n",
       "0       A0A009IHW8    3.2.2.6       2020-02-26\n",
       "1       A0A023I7E1   3.2.1.39       2022-12-14\n",
       "2       A0A024SC78   3.1.1.74       2022-05-25\n",
       "3       A0A024SH76   3.2.1.91       2017-08-30\n",
       "4       A0A044RE18  3.4.21.75       2017-05-10\n",
       "...            ...        ...              ...\n",
       "228546      Q6HX62    3.5.4.2       2004-08-16\n",
       "228547      Q6L032    3.5.4.2       2004-08-16\n",
       "228548      Q85055   2.7.7.48       2011-01-11\n",
       "228549      Q94MV8   3.6.1.12       2004-08-16\n",
       "228550      Q9J5H2   3.1.1.29       2001-08-29\n",
       "\n",
       "[228551 rows x 3 columns]"
      ]
     },
     "metadata": {},
     "output_type": "display_data"
    },
    {
     "data": {
      "text/html": [
       "<div>\n",
       "<style scoped>\n",
       "    .dataframe tbody tr th:only-of-type {\n",
       "        vertical-align: middle;\n",
       "    }\n",
       "\n",
       "    .dataframe tbody tr th {\n",
       "        vertical-align: top;\n",
       "    }\n",
       "\n",
       "    .dataframe thead th {\n",
       "        text-align: right;\n",
       "    }\n",
       "</style>\n",
       "<table border=\"1\" class=\"dataframe\">\n",
       "  <thead>\n",
       "    <tr style=\"text-align: right;\">\n",
       "      <th></th>\n",
       "      <th>Entry</th>\n",
       "      <th>EC number</th>\n",
       "      <th>Sequence</th>\n",
       "    </tr>\n",
       "  </thead>\n",
       "  <tbody>\n",
       "    <tr>\n",
       "      <th>0</th>\n",
       "      <td>P51451</td>\n",
       "      <td>2.7.10.2</td>\n",
       "      <td>MGLVSSKKPDKEKPIKEKDKGQWSPLKVSAQDKDAPPLPPLVVFNH...</td>\n",
       "    </tr>\n",
       "    <tr>\n",
       "      <th>1</th>\n",
       "      <td>C7C422</td>\n",
       "      <td>3.5.2.6</td>\n",
       "      <td>MELPNIMHPVAKLSTALAAALMLSGCMPGEIRPTIGQQMETGDQRF...</td>\n",
       "    </tr>\n",
       "    <tr>\n",
       "      <th>2</th>\n",
       "      <td>Q07457</td>\n",
       "      <td>2.3.2.27</td>\n",
       "      <td>MTAEPATKKIKLELSDPSEPLTQSDVIAFQKEALFRCINRRRVDFE...</td>\n",
       "    </tr>\n",
       "    <tr>\n",
       "      <th>3</th>\n",
       "      <td>Q07009</td>\n",
       "      <td>3.4.22.53</td>\n",
       "      <td>MAGIAMKLAKDREAAEGLGSHERAIKYLNQDYETLRNECLEAGALF...</td>\n",
       "    </tr>\n",
       "    <tr>\n",
       "      <th>4</th>\n",
       "      <td>Q9TTH8</td>\n",
       "      <td>3.4.22.54</td>\n",
       "      <td>MPTVISASVAPRTGAEPRSPGPIAQAAQGKGTEAGGGNPSGIYSAI...</td>\n",
       "    </tr>\n",
       "    <tr>\n",
       "      <th>...</th>\n",
       "      <td>...</td>\n",
       "      <td>...</td>\n",
       "      <td>...</td>\n",
       "    </tr>\n",
       "    <tr>\n",
       "      <th>227357</th>\n",
       "      <td>Q97HD1</td>\n",
       "      <td>3.1.11.6</td>\n",
       "      <td>MPSKKESYESMIKELEKIVSSMENEELPLEEAMKNYEDGVKLCDKL...</td>\n",
       "    </tr>\n",
       "    <tr>\n",
       "      <th>227358</th>\n",
       "      <td>A0A140CUL9</td>\n",
       "      <td>1.1.99.13</td>\n",
       "      <td>MAENNTYDAIVIGSGISGGWATKELTEKGLKTLMLERGRNIEHVKD...</td>\n",
       "    </tr>\n",
       "    <tr>\n",
       "      <th>227359</th>\n",
       "      <td>W6JQJ6</td>\n",
       "      <td>1.13.12.2</td>\n",
       "      <td>MNKNNRHPADGKKPITIFGPDFPFAFDDWLEHPAGLGSIPAARHGE...</td>\n",
       "    </tr>\n",
       "    <tr>\n",
       "      <th>227360</th>\n",
       "      <td>B3IVI7</td>\n",
       "      <td>3.5.1.30</td>\n",
       "      <td>MRIALYQGAPKPLDVPGNLQRLRHQAQLAAERGAQLLVCPEMFLTG...</td>\n",
       "    </tr>\n",
       "    <tr>\n",
       "      <th>227361</th>\n",
       "      <td>Q88QV2</td>\n",
       "      <td>3.5.1.30</td>\n",
       "      <td>MRIALYQGAPKPLDVPGNLQRLRHQAQLAADRGAQLLVCPEMFLSG...</td>\n",
       "    </tr>\n",
       "  </tbody>\n",
       "</table>\n",
       "<p>227362 rows × 3 columns</p>\n",
       "</div>"
      ],
      "text/plain": [
       "             Entry  EC number  \\\n",
       "0           P51451   2.7.10.2   \n",
       "1           C7C422    3.5.2.6   \n",
       "2           Q07457   2.3.2.27   \n",
       "3           Q07009  3.4.22.53   \n",
       "4           Q9TTH8  3.4.22.54   \n",
       "...            ...        ...   \n",
       "227357      Q97HD1   3.1.11.6   \n",
       "227358  A0A140CUL9  1.1.99.13   \n",
       "227359      W6JQJ6  1.13.12.2   \n",
       "227360      B3IVI7   3.5.1.30   \n",
       "227361      Q88QV2   3.5.1.30   \n",
       "\n",
       "                                                 Sequence  \n",
       "0       MGLVSSKKPDKEKPIKEKDKGQWSPLKVSAQDKDAPPLPPLVVFNH...  \n",
       "1       MELPNIMHPVAKLSTALAAALMLSGCMPGEIRPTIGQQMETGDQRF...  \n",
       "2       MTAEPATKKIKLELSDPSEPLTQSDVIAFQKEALFRCINRRRVDFE...  \n",
       "3       MAGIAMKLAKDREAAEGLGSHERAIKYLNQDYETLRNECLEAGALF...  \n",
       "4       MPTVISASVAPRTGAEPRSPGPIAQAAQGKGTEAGGGNPSGIYSAI...  \n",
       "...                                                   ...  \n",
       "227357  MPSKKESYESMIKELEKIVSSMENEELPLEEAMKNYEDGVKLCDKL...  \n",
       "227358  MAENNTYDAIVIGSGISGGWATKELTEKGLKTLMLERGRNIEHVKD...  \n",
       "227359  MNKNNRHPADGKKPITIFGPDFPFAFDDWLEHPAGLGSIPAARHGE...  \n",
       "227360  MRIALYQGAPKPLDVPGNLQRLRHQAQLAAERGAQLLVCPEMFLTG...  \n",
       "227361  MRIALYQGAPKPLDVPGNLQRLRHQAQLAADRGAQLLVCPEMFLSG...  \n",
       "\n",
       "[227362 rows x 3 columns]"
      ]
     },
     "metadata": {},
     "output_type": "display_data"
    },
    {
     "data": {
      "text/html": [
       "<div>\n",
       "<style scoped>\n",
       "    .dataframe tbody tr th:only-of-type {\n",
       "        vertical-align: middle;\n",
       "    }\n",
       "\n",
       "    .dataframe tbody tr th {\n",
       "        vertical-align: top;\n",
       "    }\n",
       "\n",
       "    .dataframe thead th {\n",
       "        text-align: right;\n",
       "    }\n",
       "</style>\n",
       "<table border=\"1\" class=\"dataframe\">\n",
       "  <thead>\n",
       "    <tr style=\"text-align: right;\">\n",
       "      <th></th>\n",
       "      <th>Entry</th>\n",
       "      <th>EC number</th>\n",
       "      <th>Sequence</th>\n",
       "    </tr>\n",
       "  </thead>\n",
       "  <tbody>\n",
       "    <tr>\n",
       "      <th>0</th>\n",
       "      <td>P51451</td>\n",
       "      <td>2.7.10.2</td>\n",
       "      <td>MGLVSSKKPDKEKPIKEKDKGQWSPLKVSAQDKDAPPLPPLVVFNH...</td>\n",
       "    </tr>\n",
       "    <tr>\n",
       "      <th>1</th>\n",
       "      <td>C7C422</td>\n",
       "      <td>3.5.2.6</td>\n",
       "      <td>MELPNIMHPVAKLSTALAAALMLSGCMPGEIRPTIGQQMETGDQRF...</td>\n",
       "    </tr>\n",
       "    <tr>\n",
       "      <th>2</th>\n",
       "      <td>Q07457</td>\n",
       "      <td>2.3.2.27</td>\n",
       "      <td>MTAEPATKKIKLELSDPSEPLTQSDVIAFQKEALFRCINRRRVDFE...</td>\n",
       "    </tr>\n",
       "    <tr>\n",
       "      <th>3</th>\n",
       "      <td>Q07009</td>\n",
       "      <td>3.4.22.53</td>\n",
       "      <td>MAGIAMKLAKDREAAEGLGSHERAIKYLNQDYETLRNECLEAGALF...</td>\n",
       "    </tr>\n",
       "    <tr>\n",
       "      <th>4</th>\n",
       "      <td>Q9TTH8</td>\n",
       "      <td>3.4.22.54</td>\n",
       "      <td>MPTVISASVAPRTGAEPRSPGPIAQAAQGKGTEAGGGNPSGIYSAI...</td>\n",
       "    </tr>\n",
       "    <tr>\n",
       "      <th>...</th>\n",
       "      <td>...</td>\n",
       "      <td>...</td>\n",
       "      <td>...</td>\n",
       "    </tr>\n",
       "    <tr>\n",
       "      <th>227353</th>\n",
       "      <td>Q9KS00</td>\n",
       "      <td>4.2.1.59;5.3.3.14</td>\n",
       "      <td>MQNKRDSYNREDLLASSQGELFGEGYPQLPAPNMLMMDRITKMSET...</td>\n",
       "    </tr>\n",
       "    <tr>\n",
       "      <th>227354</th>\n",
       "      <td>B1KNT2</td>\n",
       "      <td>4.2.1.59</td>\n",
       "      <td>MSEQLNTMDIKEIMSFLPHRYPFLLIDRVLDYTPGETLHAIKNVTI...</td>\n",
       "    </tr>\n",
       "    <tr>\n",
       "      <th>227355</th>\n",
       "      <td>B9M0X4</td>\n",
       "      <td>3.1.11.6</td>\n",
       "      <td>MAVEKFETALKKLEEVVKKLEGGELSLEDSLKAFEEGIKQAAFCSK...</td>\n",
       "    </tr>\n",
       "    <tr>\n",
       "      <th>227356</th>\n",
       "      <td>Q325W0</td>\n",
       "      <td>4.2.1.59</td>\n",
       "      <td>MTTNTHTLQIEEILELLPHRFPFLLVDRVLDFEEGRFLRAVKNVSV...</td>\n",
       "    </tr>\n",
       "    <tr>\n",
       "      <th>227357</th>\n",
       "      <td>Q97HD1</td>\n",
       "      <td>3.1.11.6</td>\n",
       "      <td>MPSKKESYESMIKELEKIVSSMENEELPLEEAMKNYEDGVKLCDKL...</td>\n",
       "    </tr>\n",
       "  </tbody>\n",
       "</table>\n",
       "<p>226440 rows × 3 columns</p>\n",
       "</div>"
      ],
      "text/plain": [
       "         Entry          EC number  \\\n",
       "0       P51451           2.7.10.2   \n",
       "1       C7C422            3.5.2.6   \n",
       "2       Q07457           2.3.2.27   \n",
       "3       Q07009          3.4.22.53   \n",
       "4       Q9TTH8          3.4.22.54   \n",
       "...        ...                ...   \n",
       "227353  Q9KS00  4.2.1.59;5.3.3.14   \n",
       "227354  B1KNT2           4.2.1.59   \n",
       "227355  B9M0X4           3.1.11.6   \n",
       "227356  Q325W0           4.2.1.59   \n",
       "227357  Q97HD1           3.1.11.6   \n",
       "\n",
       "                                                 Sequence  \n",
       "0       MGLVSSKKPDKEKPIKEKDKGQWSPLKVSAQDKDAPPLPPLVVFNH...  \n",
       "1       MELPNIMHPVAKLSTALAAALMLSGCMPGEIRPTIGQQMETGDQRF...  \n",
       "2       MTAEPATKKIKLELSDPSEPLTQSDVIAFQKEALFRCINRRRVDFE...  \n",
       "3       MAGIAMKLAKDREAAEGLGSHERAIKYLNQDYETLRNECLEAGALF...  \n",
       "4       MPTVISASVAPRTGAEPRSPGPIAQAAQGKGTEAGGGNPSGIYSAI...  \n",
       "...                                                   ...  \n",
       "227353  MQNKRDSYNREDLLASSQGELFGEGYPQLPAPNMLMMDRITKMSET...  \n",
       "227354  MSEQLNTMDIKEIMSFLPHRYPFLLIDRVLDYTPGETLHAIKNVTI...  \n",
       "227355  MAVEKFETALKKLEEVVKKLEGGELSLEDSLKAFEEGIKQAAFCSK...  \n",
       "227356  MTTNTHTLQIEEILELLPHRFPFLLVDRVLDFEEGRFLRAVKNVSV...  \n",
       "227357  MPSKKESYESMIKELEKIVSSMENEELPLEEAMKNYEDGVKLCDKL...  \n",
       "\n",
       "[226440 rows x 3 columns]"
      ]
     },
     "metadata": {},
     "output_type": "display_data"
    },
    {
     "data": {
      "text/html": [
       "<div>\n",
       "<style scoped>\n",
       "    .dataframe tbody tr th:only-of-type {\n",
       "        vertical-align: middle;\n",
       "    }\n",
       "\n",
       "    .dataframe tbody tr th {\n",
       "        vertical-align: top;\n",
       "    }\n",
       "\n",
       "    .dataframe thead th {\n",
       "        text-align: right;\n",
       "    }\n",
       "</style>\n",
       "<table border=\"1\" class=\"dataframe\">\n",
       "  <thead>\n",
       "    <tr style=\"text-align: right;\">\n",
       "      <th></th>\n",
       "      <th>Entry</th>\n",
       "      <th>EC number (CLEAN)</th>\n",
       "      <th>EC number (SWISSPROT)</th>\n",
       "    </tr>\n",
       "  </thead>\n",
       "  <tbody>\n",
       "    <tr>\n",
       "      <th>6</th>\n",
       "      <td>P00917</td>\n",
       "      <td>4.2.1.1</td>\n",
       "      <td>4.2.1.1;4.2.1.69</td>\n",
       "    </tr>\n",
       "    <tr>\n",
       "      <th>27</th>\n",
       "      <td>P14618</td>\n",
       "      <td>2.7.1.40</td>\n",
       "      <td>2.7.1.40;2.7.11.1;2.7.10.2</td>\n",
       "    </tr>\n",
       "    <tr>\n",
       "      <th>155</th>\n",
       "      <td>Q9VL76</td>\n",
       "      <td>3.6.4.12</td>\n",
       "      <td>5.6.2.3</td>\n",
       "    </tr>\n",
       "    <tr>\n",
       "      <th>156</th>\n",
       "      <td>Q96RR1</td>\n",
       "      <td>3.6.4.12</td>\n",
       "      <td>5.6.2.3</td>\n",
       "    </tr>\n",
       "    <tr>\n",
       "      <th>157</th>\n",
       "      <td>Q8CIW5</td>\n",
       "      <td>3.6.4.12</td>\n",
       "      <td>5.6.2.3</td>\n",
       "    </tr>\n",
       "    <tr>\n",
       "      <th>...</th>\n",
       "      <td>...</td>\n",
       "      <td>...</td>\n",
       "      <td>...</td>\n",
       "    </tr>\n",
       "    <tr>\n",
       "      <th>224823</th>\n",
       "      <td>O34746</td>\n",
       "      <td>2.3.1.180</td>\n",
       "      <td>2.3.1.300;2.3.1.180</td>\n",
       "    </tr>\n",
       "    <tr>\n",
       "      <th>226126</th>\n",
       "      <td>Q64565</td>\n",
       "      <td>2.6.1.44;2.6.1.40</td>\n",
       "      <td>2.6.1.40;2.6.1.44;2.6.1.18</td>\n",
       "    </tr>\n",
       "    <tr>\n",
       "      <th>226413</th>\n",
       "      <td>Q5NU32</td>\n",
       "      <td>1.4.3.4</td>\n",
       "      <td>1.4.3.4;1.4.3.21</td>\n",
       "    </tr>\n",
       "    <tr>\n",
       "      <th>226465</th>\n",
       "      <td>Q00972</td>\n",
       "      <td>2.7.11.4</td>\n",
       "      <td>2.7.11.1;2.7.11.4</td>\n",
       "    </tr>\n",
       "    <tr>\n",
       "      <th>226498</th>\n",
       "      <td>P15150</td>\n",
       "      <td>1.14.15.4</td>\n",
       "      <td>1.14.15.5;1.14.15.4</td>\n",
       "    </tr>\n",
       "  </tbody>\n",
       "</table>\n",
       "<p>1682 rows × 3 columns</p>\n",
       "</div>"
      ],
      "text/plain": [
       "         Entry  EC number (CLEAN)       EC number (SWISSPROT)\n",
       "6       P00917            4.2.1.1            4.2.1.1;4.2.1.69\n",
       "27      P14618           2.7.1.40  2.7.1.40;2.7.11.1;2.7.10.2\n",
       "155     Q9VL76           3.6.4.12                     5.6.2.3\n",
       "156     Q96RR1           3.6.4.12                     5.6.2.3\n",
       "157     Q8CIW5           3.6.4.12                     5.6.2.3\n",
       "...        ...                ...                         ...\n",
       "224823  O34746          2.3.1.180         2.3.1.300;2.3.1.180\n",
       "226126  Q64565  2.6.1.44;2.6.1.40  2.6.1.40;2.6.1.44;2.6.1.18\n",
       "226413  Q5NU32            1.4.3.4            1.4.3.4;1.4.3.21\n",
       "226465  Q00972           2.7.11.4           2.7.11.1;2.7.11.4\n",
       "226498  P15150          1.14.15.4         1.14.15.5;1.14.15.4\n",
       "\n",
       "[1682 rows x 3 columns]"
      ]
     },
     "metadata": {},
     "output_type": "display_data"
    }
   ],
   "source": [
    "import pandas as pd\n",
    "\n",
    "sprot_data = pd.read_csv('../data/ec_new/swissprot_ec_complete.csv')\n",
    "display(sprot_data)\n",
    "entries, ecs = sprot_data['Entry'].tolist(), sprot_data['EC number'].tolist()\n",
    "sprot_entry2ec = {entries[i]: set(ecs[i].split(';')) for i in range(len(entries))}\n",
    "split100_data = pd.read_csv('/work/jiaqi/CLEAN_original/app/data/split100.csv', sep='\\t')\n",
    "display(split100_data)\n",
    "split100_data = split100_data[split100_data['Entry'].isin(sprot_entry2ec.keys())]\n",
    "display(split100_data)\n",
    "\n",
    "def filter_condition(row):\n",
    "    return sprot_entry2ec.get(row['Entry'], None) != set(row['EC number'].split(';'))\n",
    "split100_data = split100_data[split100_data.apply(filter_condition, axis=1)]\n",
    "split100_data.rename(columns={'EC number': 'EC number (CLEAN)'}, inplace=True)\n",
    "split100_data['EC number (SWISSPROT)'] = split100_data['Entry'].apply(lambda x: ';'.join(list(sprot_entry2ec.get(x, ''))))\n",
    "split100_data.drop(columns=['Sequence'], inplace=True)\n",
    "display(split100_data)\n",
    "split100_data.to_csv('../data/ec_new/split100_swissprot_different.tsv', index=False, sep='\\t')"
   ]
  },
  {
   "cell_type": "code",
   "execution_count": 5,
   "metadata": {},
   "outputs": [
    {
     "data": {
      "text/plain": [
       "False"
      ]
     },
     "execution_count": 5,
     "metadata": {},
     "output_type": "execute_result"
    }
   ],
   "source": [
    "set([1, 2]) == set([2, 1, 3])"
   ]
  },
  {
   "cell_type": "code",
   "execution_count": 1,
   "metadata": {},
   "outputs": [
    {
     "name": "stdout",
     "output_type": "stream",
     "text": [
      "Precision Score (Micro): 0.8\n"
     ]
    }
   ],
   "source": [
    "from sklearn.metrics import precision_score\n",
    "import numpy as np\n",
    "\n",
    "# Example data: true and predicted labels\n",
    "y_true = np.array([\n",
    "    [1, 0, 1],\n",
    "    [0, 1, 0],\n",
    "    [1, 1, 1]\n",
    "])\n",
    "\n",
    "y_pred = np.array([\n",
    "    [1, 0, 0],\n",
    "    [0, 1, 1],\n",
    "    [1, 0, 1]\n",
    "])\n",
    "\n",
    "# Calculate precision score\n",
    "# Choose average='micro', 'macro', 'weighted', or None\n",
    "precision = precision_score(y_true, y_pred, average='micro')\n",
    "\n",
    "print(f\"Precision Score (Micro): {precision}\")"
   ]
  },
  {
   "cell_type": "code",
   "execution_count": 4,
   "metadata": {},
   "outputs": [],
   "source": [
    "from Bio import SeqIO\n",
    "import pandas as pd\n",
    "\n",
    "records = list(SeqIO.parse('../data/swissprot/uniprot_sprot_10_1022_cleaned.fasta', 'fasta'))\n",
    "pid2seq = {record.id: str(record.seq) for record in records}\n",
    "data = pd.read_csv('../data/ec_new/swissprot_ec_complete_after_2022-05-25_filtered.csv')\n",
    "data['Sequence'] = data['Entry'].apply(lambda x: pid2seq.get(x, ''))\n",
    "data.to_csv('../data/ec_new/swissprot_ec_complete_after_2022-05-25_filtered_with_sequence.csv', index=False)"
   ]
  },
  {
   "cell_type": "code",
   "execution_count": 5,
   "metadata": {},
   "outputs": [
    {
     "data": {
      "text/plain": [
       "set()"
      ]
     },
     "execution_count": 5,
     "metadata": {},
     "output_type": "execute_result"
    }
   ],
   "source": [
    "import pandas as pd\n",
    "\n",
    "test_df = pd.read_csv('../data/gene3D_new/swissprot_gene3D_after_2022-05-25_filtered.csv')\n",
    "lookup_df = pd.read_csv('/work/jiaqi/protein-vec/src_run/protein_vec_embeddings/lookup_embeddings_meta_data.tsv', sep='\\t')\n",
    "test_pids = test_df['Entry'].tolist()\n",
    "lookup_pids = lookup_df['Entry'].tolist()\n",
    "set(test_pids) & set(lookup_pids)"
   ]
  },
  {
   "cell_type": "code",
   "execution_count": 13,
   "metadata": {},
   "outputs": [
    {
     "name": "stdout",
     "output_type": "stream",
     "text": [
      "A1CJC1 ['3.40.50.620', '3.40.50.300', '3.10.400.10']\n",
      "A1D858 ['3.40.50.620', '3.40.50.300', '3.10.400.10']\n",
      "A9ENT2 ['3.40.50.620', '3.40.50.300', '3.10.400.10']\n",
      "A9G7W0 ['3.40.50.620', '3.40.50.300', '3.10.400.10']\n",
      "O43252 ['3.40.50.620', '3.40.50.300', '3.10.400.10']\n",
      "O54820 ['3.40.50.620', '3.40.50.300', '3.10.400.10']\n",
      "O67174 ['3.40.50.620', '3.40.50.300', '3.10.400.10']\n",
      "O88428 ['3.40.50.620', '3.40.50.300', '3.10.400.10']\n",
      "O95340 ['3.40.50.620', '3.40.50.300', '3.10.400.10']\n",
      "P08536 ['3.40.50.620', '3.40.50.300', '3.10.400.10']\n",
      "P0CN04 ['3.40.50.620', '3.40.50.300', '3.10.400.10']\n",
      "P0CN05 ['3.40.50.620', '3.40.50.300', '3.10.400.10']\n",
      "P56862 ['3.40.50.620', '3.40.50.300', '3.10.400.10']\n",
      "P78937 ['3.40.50.620', '3.40.50.300', '3.10.400.10']\n",
      "Q0CC19 ['3.40.50.620', '3.40.50.300', '3.10.400.10']\n",
      "Q0V6P9 ['3.40.50.620', '3.40.50.300', '3.10.400.10']\n",
      "Q12555 ['3.40.50.620', '3.40.50.300', '3.10.400.10']\n",
      "Q12650 ['3.40.50.620', '3.40.50.300', '3.10.400.10']\n",
      "Q1EAF9 ['3.40.50.620', '3.40.50.300', '3.10.400.10']\n",
      "Q27128 ['3.40.50.620', '3.40.50.300', '3.10.400.10']\n",
      "Q2H454 ['3.40.50.620', '3.40.50.300', '3.10.400.10']\n",
      "Q4I1N3 ['3.40.50.620', '3.40.50.300', '3.10.400.10']\n",
      "Q4P460 ['3.40.50.620', '3.40.50.300', '3.10.400.10']\n",
      "Q4WWN8 ['3.40.50.620', '3.40.50.300', '3.10.400.10']\n",
      "Q60967 ['3.40.50.620', '3.40.50.300', '3.10.400.10']\n",
      "Q6BSU5 ['3.40.50.620', '3.40.50.300', '3.10.400.10']\n",
      "Q6CFD2 ['3.40.50.620', '3.40.50.300', '3.10.400.10']\n",
      "Q6CNU6 ['3.40.50.620', '3.40.50.300', '3.10.400.10']\n",
      "Q6FXQ8 ['3.40.50.620', '3.40.50.300', '3.10.400.10']\n",
      "Q74ZF6 ['3.40.50.620', '3.40.50.300', '3.10.400.10']\n",
      "Q7SE75 ['3.40.50.620', '3.40.50.300', '3.10.400.10']\n",
      "Q8J0I4 ['3.40.50.620', '3.40.50.300', '3.10.400.10']\n",
      "Q8NJN1 ['3.40.50.620', '3.40.50.300', '3.10.400.10']\n",
      "Q8NK83 ['3.40.50.620', '3.40.50.300', '3.10.400.10']\n",
      "Q8TG24 ['3.40.50.620', '3.40.50.300', '3.10.400.10']\n",
      "Q9Y872 ['3.40.50.620', '3.40.50.300', '3.10.400.10']\n"
     ]
    }
   ],
   "source": [
    "df = pd.read_csv('/work/jiaqi/protein-vec/src_run/protein_vec_embeddings/lookup_embeddings_meta_data.tsv', sep='\\t')\n",
    "df = df[df['Gene3D'].notnull()]\n",
    "entries = df['Entry'].tolist()\n",
    "gene3d = df['Gene3D'].tolist()\n",
    "entry2gene3d = {entries[i]: gene3d[i].strip(';').split(';') for i in range(len(entries))}\n",
    "for k in entry2gene3d:\n",
    "    if set(entry2gene3d[k]) == {'3.40.50.620', '3.10.400.10', '3.40.50.300'}:\n",
    "        print(k, entry2gene3d[k])"
   ]
  },
  {
   "cell_type": "code",
   "execution_count": 14,
   "metadata": {},
   "outputs": [
    {
     "data": {
      "text/html": [
       "<div>\n",
       "<style scoped>\n",
       "    .dataframe tbody tr th:only-of-type {\n",
       "        vertical-align: middle;\n",
       "    }\n",
       "\n",
       "    .dataframe tbody tr th {\n",
       "        vertical-align: top;\n",
       "    }\n",
       "\n",
       "    .dataframe thead th {\n",
       "        text-align: right;\n",
       "    }\n",
       "</style>\n",
       "<table border=\"1\" class=\"dataframe\">\n",
       "  <thead>\n",
       "    <tr style=\"text-align: right;\">\n",
       "      <th></th>\n",
       "      <th>Unnamed: 0</th>\n",
       "      <th>Entry</th>\n",
       "      <th>Reviewed</th>\n",
       "      <th>Entry Name</th>\n",
       "      <th>Protein names</th>\n",
       "      <th>Gene Names</th>\n",
       "      <th>Organism</th>\n",
       "      <th>Length</th>\n",
       "      <th>Gene Ontology (biological process)</th>\n",
       "      <th>Gene Ontology (cellular component)</th>\n",
       "      <th>Gene Ontology (molecular function)</th>\n",
       "      <th>Gene Ontology (GO)</th>\n",
       "      <th>EC number</th>\n",
       "      <th>Sequence</th>\n",
       "      <th>Date of creation</th>\n",
       "      <th>Gene3D</th>\n",
       "      <th>Pfam</th>\n",
       "    </tr>\n",
       "  </thead>\n",
       "  <tbody>\n",
       "    <tr>\n",
       "      <th>11571</th>\n",
       "      <td>11571</td>\n",
       "      <td>A1CJC1</td>\n",
       "      <td>reviewed</td>\n",
       "      <td>MET3_ASPCL</td>\n",
       "      <td>Sulfate adenylyltransferase (EC 2.7.7.4) (ATP-...</td>\n",
       "      <td>met3 ACLA_034480</td>\n",
       "      <td>Aspergillus clavatus (strain ATCC 1007 / CBS 5...</td>\n",
       "      <td>574</td>\n",
       "      <td>cysteine biosynthetic process [GO:0019344]; hy...</td>\n",
       "      <td>cytoplasm [GO:0005737]</td>\n",
       "      <td>adenylylsulfate kinase activity [GO:0004020]; ...</td>\n",
       "      <td>cytoplasm [GO:0005737]; adenylylsulfate kinase...</td>\n",
       "      <td>2.7.7.4</td>\n",
       "      <td>MSNPPHGGVLKDLLARDAPRHDQLETEAEQLPAIVLTERQLCDLEL...</td>\n",
       "      <td>2007-04-03</td>\n",
       "      <td>3.40.50.620;3.40.50.300;3.10.400.10;</td>\n",
       "      <td>PF01583;PF01747;PF14306;</td>\n",
       "    </tr>\n",
       "  </tbody>\n",
       "</table>\n",
       "</div>"
      ],
      "text/plain": [
       "       Unnamed: 0   Entry  Reviewed  Entry Name  \\\n",
       "11571       11571  A1CJC1  reviewed  MET3_ASPCL   \n",
       "\n",
       "                                           Protein names        Gene Names  \\\n",
       "11571  Sulfate adenylyltransferase (EC 2.7.7.4) (ATP-...  met3 ACLA_034480   \n",
       "\n",
       "                                                Organism  Length  \\\n",
       "11571  Aspergillus clavatus (strain ATCC 1007 / CBS 5...     574   \n",
       "\n",
       "                      Gene Ontology (biological process)  \\\n",
       "11571  cysteine biosynthetic process [GO:0019344]; hy...   \n",
       "\n",
       "      Gene Ontology (cellular component)  \\\n",
       "11571             cytoplasm [GO:0005737]   \n",
       "\n",
       "                      Gene Ontology (molecular function)  \\\n",
       "11571  adenylylsulfate kinase activity [GO:0004020]; ...   \n",
       "\n",
       "                                      Gene Ontology (GO) EC number  \\\n",
       "11571  cytoplasm [GO:0005737]; adenylylsulfate kinase...   2.7.7.4   \n",
       "\n",
       "                                                Sequence Date of creation  \\\n",
       "11571  MSNPPHGGVLKDLLARDAPRHDQLETEAEQLPAIVLTERQLCDLEL...       2007-04-03   \n",
       "\n",
       "                                     Gene3D                      Pfam  \n",
       "11571  3.40.50.620;3.40.50.300;3.10.400.10;  PF01583;PF01747;PF14306;  "
      ]
     },
     "execution_count": 14,
     "metadata": {},
     "output_type": "execute_result"
    }
   ],
   "source": [
    "df[df['Entry'] == 'A1CJC1']"
   ]
  },
  {
   "cell_type": "code",
   "execution_count": 1,
   "metadata": {},
   "outputs": [
    {
     "name": "stdout",
     "output_type": "stream",
     "text": [
      "Lookup: 227839, Test: 571\n",
      "Occured multilabel: 37, multilabel: 60, percentage in total: 0.0647985989492119, percentage in multilabel: 0.6166666666666667, multilabel percentage: 0.10507880910683012\n"
     ]
    }
   ],
   "source": [
    "import pandas as pd\n",
    "import torch\n",
    "\n",
    "lookup_data = torch.load('/work/jiaqi/ProtRepr/data/ec_new/swissprot_ec_complete_by2022-05-25.pt')\n",
    "test_data = torch.load('/work/jiaqi/ProtRepr/data/ec_new/swissprot_ec_complete_after_2022-05-25_filtered.pt')\n",
    "label_name = 'ec'\n",
    "lookup_labels = [set(v[label_name]) for v in lookup_data.values()]\n",
    "test_labels = [set(v[label_name]) for v in test_data.values()]\n",
    "print(f'Lookup: {len(lookup_labels)}, Test: {len(test_labels)}')\n",
    "occured_multilabel = 0\n",
    "num_multilabel = 0\n",
    "for i in range(len(test_labels)):\n",
    "    if len(test_labels[i]) > 1 and test_labels[i] in lookup_labels:\n",
    "        occured_multilabel += 1\n",
    "    if len(test_labels[i]) > 1:\n",
    "        num_multilabel += 1\n",
    "print(f'Occured multilabel: {occured_multilabel}, multilabel: {num_multilabel}, percentage in total: {occured_multilabel / len(test_labels)}, percentage in multilabel: {occured_multilabel / num_multilabel}, multilabel percentage: {num_multilabel / len(test_labels)}')"
   ]
  },
  {
   "cell_type": "code",
   "execution_count": 2,
   "metadata": {},
   "outputs": [
    {
     "name": "stdout",
     "output_type": "stream",
     "text": [
      "Lookup: 440743, Test: 2058\n",
      "Occured multilabel: 522, multilabel: 563, percentage in total: 0.2536443148688047, percentage in multilabel: 0.9271758436944938, multilabel percentage: 0.27356656948493685\n"
     ]
    }
   ],
   "source": [
    "import pandas as pd\n",
    "import torch\n",
    "\n",
    "lookup_data = torch.load('/work/jiaqi/ProtRepr/data/gene3D_new/swissprot_gene3D_by2022-05-25.pt')\n",
    "test_data = torch.load('/work/jiaqi/ProtRepr/data/gene3D_new/swissprot_gene3D_after_2022-05-25_filtered.pt')\n",
    "label_name = 'gene3D'\n",
    "lookup_labels = [set(v[label_name]) for v in lookup_data.values()]\n",
    "test_labels = [set(v[label_name]) for v in test_data.values()]\n",
    "print(f'Lookup: {len(lookup_labels)}, Test: {len(test_labels)}')\n",
    "occured_multilabel = 0\n",
    "num_multilabel = 0\n",
    "for i in range(len(test_labels)):\n",
    "    if len(test_labels[i]) > 1 and test_labels[i] in lookup_labels:\n",
    "        occured_multilabel += 1\n",
    "    if len(test_labels[i]) > 1:\n",
    "        num_multilabel += 1\n",
    "print(f'Occured multilabel: {occured_multilabel}, multilabel: {num_multilabel}, percentage in total: {occured_multilabel / len(test_labels)}, percentage in multilabel: {occured_multilabel / num_multilabel}, multilabel percentage: {num_multilabel / len(test_labels)}')"
   ]
  },
  {
   "cell_type": "code",
   "execution_count": 3,
   "metadata": {},
   "outputs": [
    {
     "name": "stdout",
     "output_type": "stream",
     "text": [
      "Lookup: 520636, Test: 2405\n",
      "Occured multilabel: 572, multilabel: 636, percentage in total: 0.23783783783783785, percentage in multilabel: 0.89937106918239, multilabel percentage: 0.26444906444906446\n"
     ]
    }
   ],
   "source": [
    "import pandas as pd\n",
    "import torch\n",
    "\n",
    "lookup_data = torch.load('/work/jiaqi/ProtRepr/data/pfam_new/swissprot_pfam_by2022-05-25.pt')\n",
    "test_data = torch.load('/work/jiaqi/ProtRepr/data/pfam_new/swissprot_pfam_after_2022-05-25_filtered.pt')\n",
    "label_name = 'pfam'\n",
    "lookup_labels = [set(v[label_name]) for v in lookup_data.values()]\n",
    "test_labels = [set(v[label_name]) for v in test_data.values()]\n",
    "print(f'Lookup: {len(lookup_labels)}, Test: {len(test_labels)}')\n",
    "occured_multilabel = 0\n",
    "num_multilabel = 0\n",
    "for i in range(len(test_labels)):\n",
    "    if len(test_labels[i]) > 1 and test_labels[i] in lookup_labels:\n",
    "        occured_multilabel += 1\n",
    "    if len(test_labels[i]) > 1:\n",
    "        num_multilabel += 1\n",
    "print(f'Occured multilabel: {occured_multilabel}, multilabel: {num_multilabel}, percentage in total: {occured_multilabel / len(test_labels)}, percentage in multilabel: {occured_multilabel / num_multilabel}, multilabel percentage: {num_multilabel / len(test_labels)}')"
   ]
  },
  {
   "cell_type": "code",
   "execution_count": 7,
   "metadata": {},
   "outputs": [
    {
     "name": "stdout",
     "output_type": "stream",
     "text": [
      "520636 260318 260318\n"
     ]
    }
   ],
   "source": [
    "from Bio import SeqIO\n",
    "import pandas as pd\n",
    "\n",
    "records = list(SeqIO.parse('../data/swissprot/uniprot_sprot_10_1022_cleaned.fasta', 'fasta'))\n",
    "pid2seq = {record.id: str(record.seq) for record in records}\n",
    "data = pd.read_csv('../data/pfam_new/swissprot_pfam_by2022-05-25.csv')\n",
    "data['Sequence'] = data['Entry'].apply(lambda x: pid2seq.get(x, ''))\n",
    "data.to_csv('../data/pfam_new/swissprot_pfam_by2022-05-25_with_sequence.csv', index=False)\n",
    "# split data evenly to two part\n",
    "data1 = data.iloc[:len(data) // 2]\n",
    "data2 = data.iloc[len(data) // 2:]\n",
    "data1.to_csv('../data/pfam_new/swissprot_pfam_by2022-05-25_with_sequence_split1.csv', index=False)\n",
    "data2.to_csv('../data/pfam_new/swissprot_pfam_by2022-05-25_with_sequence_split2.csv', index=False)\n",
    "print(len(data), len(data1), len(data2))"
   ]
  },
  {
   "cell_type": "code",
   "execution_count": 2,
   "metadata": {},
   "outputs": [
    {
     "data": {
      "text/plain": [
       "'1 2 3'"
      ]
     },
     "execution_count": 2,
     "metadata": {},
     "output_type": "execute_result"
    }
   ],
   "source": [
    "' '.join(\"123\")"
   ]
  },
  {
   "cell_type": "code",
   "execution_count": 3,
   "metadata": {},
   "outputs": [
    {
     "data": {
      "text/plain": [
       "(540560, 512)"
      ]
     },
     "execution_count": 3,
     "metadata": {},
     "output_type": "execute_result"
    }
   ],
   "source": [
    "import numpy as np\n",
    "\n",
    "data = np.load('/work/jiaqi/protein-vec/src_run/protein_vec_embeddings/lookup_embeddings.npy')\n",
    "data.shape"
   ]
  },
  {
   "cell_type": "code",
   "execution_count": 5,
   "metadata": {},
   "outputs": [
    {
     "data": {
      "text/plain": [
       "tensor([[1., 1., 1.],\n",
       "        [1., 1., 1.]], device='cuda:1')"
      ]
     },
     "execution_count": 5,
     "metadata": {},
     "output_type": "execute_result"
    }
   ],
   "source": [
    "import torch\n",
    "\n",
    "a = torch.ones(2, 3)\n",
    "b= torch.zeros(3,4).to('cuda:1')\n",
    "a.to(b)"
   ]
  },
  {
   "cell_type": "code",
   "execution_count": 1,
   "metadata": {},
   "outputs": [
    {
     "data": {
      "text/plain": [
       "'AAAAAAAAAAAAAAAAAAAAAAAAAAAAAAAAAAAAAAAAAAAAAAAAAAAAAAAAAAAAAAAAAAAAAAAAAAAAAAAAAAAAAAAAAAAAAAAAAAAAAAAAAAAAAAAAAAAAAAAAAAAAAAAAAAAAAAAAAAAAAAAAAAAAAAAAAAAAAAAAAAAAAAAAAAAAAAAAAAAAAAAAAAAAAAAAAAAAAAAAAAAAAAAAAAAAAAAAAAAAAAAAAAAAAAAAAAAAAAAAAAAAAAAAAAAAAAAAAAAAAAAAAAAAAAAAAAAAAAAAAAAAAAAAAAAAAAAAAAAAAAAAAAAAAAAAAAAAAAAAAAAAAAAAAAAAAAAAAAAAAAAAAAAAAAAAAAAAAAAAAAAAAAAAAAAAAAAAAAAAAAAAAAAAAAAAAAAAAAAAAAAAAAAAAAAAAAAAAAAAAAAAAAAAAAAAAAAAAAAAAAAAAAAAAAAAAAAAAAAAAAAAAAAAAAAAAAAAAAAAAAAAAAAAAAAAAAAAAAAAAAAAAAAAAAAAAAAAAAAAAAAAAAAAAAAAAAAAAAAAAAAAAAAAAAAAAAAAAAAAAAAAAAAAAAAAAAAAAAAAAAAAAAAAAAAAAAAAAAAAAAAAAAAAAAAAAAAAAAAAAAAAAAAAAAAAAAAAAAAAAAAAAAAAAAAAAAAAAAAAAAAAAAAAAAAAAAAAAAAAAAAAAAAAAAAAAAAAAAAAAAAAAAAAAAAAAAAAAAAAAAAAAAAAAAAAAAAAAAAAAAAAAAAAAAAAAAAAAAAAAAAAAAAAAAAAAAAAAAAAAAAAAAAAAAAAAAAAAAAAAAAAAAAAAAAAAAAAAAAAAAAAAAAAAAAAAAAAAAAAAAAAAAAAAAAAAAAAAAAAAAAAAAAAAAAAAAAAAAAAAAAAAAAAAAAAAAAAAAAAAAAAAAAAAAAAAAAAAAAAAAAAAAAAAAAAAAAAAAAAAAAAAAAAAAAAAAAAAAAAAAAAAAAAAAAAAAAAAAAAAAAAAAAAAAAAAAAAAAAAAAAAAAAAAAAAAAAAAAAAAA'"
      ]
     },
     "execution_count": 1,
     "metadata": {},
     "output_type": "execute_result"
    }
   ],
   "source": [
    "'A' * 1022"
   ]
  },
  {
   "cell_type": "code",
   "execution_count": 2,
   "metadata": {},
   "outputs": [
    {
     "name": "stdout",
     "output_type": "stream",
     "text": [
      "(260318, 512) (260318, 512)\n",
      "(520636, 512)\n"
     ]
    }
   ],
   "source": [
    "import numpy as np\n",
    "\n",
    "data1 = np.load('/work/jiaqi/protein-vec/src_run/protein_vec_embeddings/lookup_embeddings_pfam_split1.npy')\n",
    "data2 = np.load('/work/jiaqi/protein-vec/src_run/protein_vec_embeddings/lookup_embeddings_pfam_split2.npy')\n",
    "print(data1.shape, data2.shape)\n",
    "data_merged = np.concatenate([data1, data2], axis=0)\n",
    "print(data_merged.shape)\n",
    "np.save('/work/jiaqi/protein-vec/src_run/protein_vec_embeddings/lookup_embeddings_pfam.npy', data_merged)"
   ]
  },
  {
   "cell_type": "code",
   "execution_count": 1,
   "metadata": {},
   "outputs": [
    {
     "data": {
      "text/plain": [
       "{'label': 'A0A023I7E1',\n",
       " 'mean_representations': {33: tensor([ 0.0056,  0.1870,  0.1281,  ...,  0.0731, -0.1062,  0.1210])}}"
      ]
     },
     "execution_count": 1,
     "metadata": {},
     "output_type": "execute_result"
    }
   ],
   "source": [
    "import torch\n",
    "\n",
    "data =torch.load('../data/sprot_esm1b_emb/A0A023I7E1.pt')\n",
    "data"
   ]
  },
  {
   "cell_type": "code",
   "execution_count": null,
   "metadata": {},
   "outputs": [],
   "source": []
  }
 ],
 "metadata": {
  "kernelspec": {
   "display_name": "protein",
   "language": "python",
   "name": "python3"
  },
  "language_info": {
   "codemirror_mode": {
    "name": "ipython",
    "version": 3
   },
   "file_extension": ".py",
   "mimetype": "text/x-python",
   "name": "python",
   "nbconvert_exporter": "python",
   "pygments_lexer": "ipython3",
   "version": "3.8.18"
  }
 },
 "nbformat": 4,
 "nbformat_minor": 2
}
