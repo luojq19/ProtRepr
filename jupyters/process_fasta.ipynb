{
 "cells": [
  {
   "cell_type": "code",
   "execution_count": 2,
   "metadata": {},
   "outputs": [
    {
     "name": "stdout",
     "output_type": "stream",
     "text": [
      "Number of sequences: 551965\n"
     ]
    }
   ],
   "source": [
    "import os\n",
    "from Bio import SeqIO\n",
    "\n",
    "records = list(SeqIO.parse('/work/jiaqi/ProtRepr/data/swissprot/uniprot_sprot_10_1022.fasta', 'fasta'))\n",
    "pid_seqs = [f'>{record.id.split(\"|\")[1]}\\n{str(record.seq)}\\n' for record in records]\n",
    "print(f'Number of sequences: {len(pid_seqs)}')\n",
    "with open('/work/jiaqi/ProtRepr/data/swissprot/uniprot_sprot_10_1022_cleaned.fasta', 'w') as f:\n",
    "    f.writelines(pid_seqs)"
   ]
  },
  {
   "cell_type": "code",
   "execution_count": 3,
   "metadata": {},
   "outputs": [
    {
     "name": "stdout",
     "output_type": "stream",
     "text": [
      "Batch 0 has 91995 sequences\n",
      "Batch 1 has 91995 sequences\n",
      "Batch 2 has 91995 sequences\n",
      "Batch 3 has 91995 sequences\n",
      "Batch 4 has 91995 sequences\n",
      "Batch 5 has 91990 sequences\n"
     ]
    }
   ],
   "source": [
    "import random\n",
    "import numpy as np\n",
    "\n",
    "random.seed(42)\n",
    "random.shuffle(pid_seqs)\n",
    "num_batches = 6\n",
    "batch_size = int(np.ceil(len(pid_seqs) / num_batches))\n",
    "for i in range(num_batches):\n",
    "    with open(f'/work/jiaqi/ProtRepr/data/swissprot/uniprot_sprot_10_1022_cleaned_batch{i}.fasta', 'w') as f:\n",
    "        f.writelines(pid_seqs[i*batch_size:(i+1)*batch_size])\n",
    "    print(f'Batch {i} has {len(pid_seqs[i*batch_size:(i+1)*batch_size])} sequences')"
   ]
  },
  {
   "cell_type": "code",
   "execution_count": 4,
   "metadata": {},
   "outputs": [
    {
     "name": "stdout",
     "output_type": "stream",
     "text": [
      "Total number of amino acids: 177708347\n"
     ]
    }
   ],
   "source": [
    "seqs = [str(record.seq) for record in records]\n",
    "total_aa = sum([len(seq) for seq in seqs])\n",
    "print(f'Total number of amino acids: {total_aa}')"
   ]
  },
  {
   "cell_type": "code",
   "execution_count": 5,
   "metadata": {},
   "outputs": [
    {
     "data": {
      "text/plain": [
       "847.3794317245483"
      ]
     },
     "execution_count": 5,
     "metadata": {},
     "output_type": "execute_result"
    }
   ],
   "source": [
    "177708347 * 1280 * 32 / 8 / 1024 / 1024 / 1024"
   ]
  },
  {
   "cell_type": "code",
   "execution_count": 1,
   "metadata": {},
   "outputs": [],
   "source": [
    "import torch\n",
    "\n",
    "data = torch.load('../data/sprot_esm1b_emb_per_residue/A0A009IHW8.pt')"
   ]
  },
  {
   "cell_type": "code",
   "execution_count": 2,
   "metadata": {},
   "outputs": [
    {
     "data": {
      "text/plain": [
       "{'label': 'A0A009IHW8',\n",
       " 'representations': {33: tensor([[ 0.0346, -0.0252,  0.2082,  ..., -0.0231, -0.1055, -0.2171],\n",
       "          [-0.0496,  0.0191,  0.1307,  ...,  0.0703,  0.1753,  0.1319],\n",
       "          [ 0.0459,  0.1039, -0.1113,  ...,  0.0921,  0.0433,  0.2043],\n",
       "          ...,\n",
       "          [-0.1886,  0.1124, -0.2455,  ..., -0.2014,  0.2529,  0.1187],\n",
       "          [ 0.1776,  0.0238, -0.1586,  ...,  0.0368,  0.0579,  0.1807],\n",
       "          [ 0.0412, -0.0378,  0.0217,  ...,  0.0182,  0.0892,  0.0313]])},\n",
       " 'mean_representations': {33: tensor([-0.0296,  0.0830, -0.1114,  ..., -0.0111, -0.0451,  0.1137])}}"
      ]
     },
     "execution_count": 2,
     "metadata": {},
     "output_type": "execute_result"
    }
   ],
   "source": [
    "data"
   ]
  },
  {
   "cell_type": "code",
   "execution_count": 3,
   "metadata": {},
   "outputs": [
    {
     "data": {
      "text/plain": [
       "(torch.Size([269, 1280]), torch.Size([1280]))"
      ]
     },
     "execution_count": 3,
     "metadata": {},
     "output_type": "execute_result"
    }
   ],
   "source": [
    "data['representations'][33].shape, data['mean_representations'][33].shape"
   ]
  },
  {
   "cell_type": "code",
   "execution_count": null,
   "metadata": {},
   "outputs": [],
   "source": []
  }
 ],
 "metadata": {
  "kernelspec": {
   "display_name": "protrepr",
   "language": "python",
   "name": "python3"
  },
  "language_info": {
   "codemirror_mode": {
    "name": "ipython",
    "version": 3
   },
   "file_extension": ".py",
   "mimetype": "text/x-python",
   "name": "python",
   "nbconvert_exporter": "python",
   "pygments_lexer": "ipython3",
   "version": "3.8.19"
  }
 },
 "nbformat": 4,
 "nbformat_minor": 2
}
