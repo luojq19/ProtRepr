{
 "cells": [
  {
   "cell_type": "code",
   "execution_count": 1,
   "metadata": {},
   "outputs": [
    {
     "name": "stdout",
     "output_type": "stream",
     "text": [
      "train: 167108, val: 20888, test: 20889\n",
      "all data: 167108\n"
     ]
    },
    {
     "data": {
      "application/vnd.jupyter.widget-view+json": {
       "model_id": "66831d369593494690e70ec8d9a2bbdb",
       "version_major": 2,
       "version_minor": 0
      },
      "text/plain": [
       "  0%|          | 0/167108 [00:00<?, ?it/s]"
      ]
     },
     "metadata": {},
     "output_type": "display_data"
    },
    {
     "name": "stdout",
     "output_type": "stream",
     "text": [
      "pid_ec_seq: 167108\n"
     ]
    }
   ],
   "source": [
    "import torch\n",
    "import pandas as pd\n",
    "import json\n",
    "from Bio import SeqIO\n",
    "from tqdm.auto import tqdm\n",
    "\n",
    "train_data = torch.load('../data/ec/sprot_10_1022_esm2_t33_ec_above_10_single_label_train.pt')\n",
    "val_data = torch.load('../data/ec/sprot_10_1022_esm2_t33_ec_above_10_single_label_val.pt')\n",
    "test_data = torch.load('../data/ec/sprot_10_1022_esm2_t33_ec_above_10_single_label_test.pt')\n",
    "print(f'train: {len(train_data)}, val: {len(val_data)}, test: {len(test_data)}')\n",
    "# train_data.update(val_data)\n",
    "# train_data.update(test_data)\n",
    "data = train_data\n",
    "print(f'all data: {len(data)}')\n",
    "records = list(SeqIO.parse('../data/swissprot/uniprot_sprot_10_1022.fasta', 'fasta'))\n",
    "pid2seq = {r.id.split('|')[1]: str(r.seq) for r in records}\n",
    "pid_ec_seq = []\n",
    "for pid in tqdm(data):\n",
    "    ec = data[pid]['ec'][0]\n",
    "    seq = pid2seq[pid]\n",
    "    pid_ec_seq.append((pid, ec, seq))\n",
    "print(f'pid_ec_seq: {len(pid_ec_seq)}')\n",
    "df = pd.DataFrame(pid_ec_seq, columns=['Entry', 'EC number', 'Sequence'])\n",
    "df.to_csv('/work/jiaqi/CLEAN/app/data/sprot_10_1022_ec_above_10_single_label_train.csv', index=False, sep='\\t')"
   ]
  },
  {
   "cell_type": "code",
   "execution_count": 2,
   "metadata": {},
   "outputs": [],
   "source": [
    "with open('/work/jiaqi/CLEAN/app/data/sprot_10_1022_ec_above_10_single_label_train.fasta', 'w') as f:\n",
    "    for pid, _, seq in pid_ec_seq:\n",
    "        f.write(f'>{pid}\\n{seq}\\n')"
   ]
  },
  {
   "cell_type": "code",
   "execution_count": 3,
   "metadata": {},
   "outputs": [
    {
     "name": "stdout",
     "output_type": "stream",
     "text": [
      "cached: 209225, all: 208885\n",
      "to cache: 0\n"
     ]
    }
   ],
   "source": [
    "import os\n",
    "\n",
    "cached_list = []\n",
    "for root, dirs, files in os.walk('/work/jiaqi/CLEAN/app/data/esm_data'):\n",
    "    for file in files:\n",
    "        cached_list.append(file.split('.')[0])\n",
    "cached_list = set(cached_list)\n",
    "all_pid = set(data.keys())\n",
    "print(f'cached: {len(cached_list)}, all: {len(all_pid)}')\n",
    "to_cache = all_pid - cached_list\n",
    "print(f'to cache: {len(to_cache)}')"
   ]
  },
  {
   "cell_type": "code",
   "execution_count": 1,
   "metadata": {},
   "outputs": [
    {
     "name": "stdout",
     "output_type": "stream",
     "text": [
      "train: 167108, val: 20888, test: 20889\n",
      "train: 167108, val: 20888, test: 20889\n"
     ]
    }
   ],
   "source": [
    "import torch\n",
    "\n",
    "CLEAN_emb = torch.load('../data/ec/sprot_10_1022_CLEAN_ec_above_10_single_label.pt')\n",
    "train_esm = torch.load('../data/ec/sprot_10_1022_esm2_t33_ec_above_10_single_label_train.pt')\n",
    "test_esm = torch.load('../data/ec/sprot_10_1022_esm2_t33_ec_above_10_single_label_test.pt')\n",
    "val_esm = torch.load('../data/ec/sprot_10_1022_esm2_t33_ec_above_10_single_label_val.pt')\n",
    "train_pids = list(train_esm.keys())\n",
    "val_pids = list(val_esm.keys())\n",
    "test_pids = list(test_esm.keys())\n",
    "print(f'train: {len(train_pids)}, val: {len(val_pids)}, test: {len(test_pids)}')\n",
    "train_clean_emb = {pid: {'embedding': CLEAN_emb[pid], 'ec': train_esm[pid]['ec']} for pid in train_pids}\n",
    "val_clean_emb = {pid: {'embedding': CLEAN_emb[pid], 'ec': val_esm[pid]['ec']} for pid in val_pids}\n",
    "test_clean_emb = {pid: {'embedding': CLEAN_emb[pid], 'ec': test_esm[pid]['ec']} for pid in test_pids}\n",
    "print(f'train: {len(train_clean_emb)}, val: {len(val_clean_emb)}, test: {len(test_clean_emb)}')\n",
    "torch.save(train_clean_emb, '../data/ec/sprot_10_1022_CLEAN_ec_above_10_single_label_train.pt')\n",
    "torch.save(val_clean_emb, '../data/ec/sprot_10_1022_CLEAN_ec_above_10_single_label_val.pt')\n",
    "torch.save(test_clean_emb, '../data/ec/sprot_10_1022_CLEAN_ec_above_10_single_label_test.pt')"
   ]
  },
  {
   "cell_type": "code",
   "execution_count": null,
   "metadata": {},
   "outputs": [],
   "source": []
  }
 ],
 "metadata": {
  "kernelspec": {
   "display_name": "protein",
   "language": "python",
   "name": "python3"
  },
  "language_info": {
   "codemirror_mode": {
    "name": "ipython",
    "version": 3
   },
   "file_extension": ".py",
   "mimetype": "text/x-python",
   "name": "python",
   "nbconvert_exporter": "python",
   "pygments_lexer": "ipython3",
   "version": "3.8.18"
  }
 },
 "nbformat": 4,
 "nbformat_minor": 2
}
