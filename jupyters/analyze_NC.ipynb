{
 "cells": [
  {
   "cell_type": "code",
   "execution_count": 1,
   "metadata": {},
   "outputs": [
    {
     "name": "stderr",
     "output_type": "stream",
     "text": [
      "[2024-02-27 10:06:49,024::SequenceDataset::INFO] Loaded 167108 sequences with ec labels\n",
      "[2024-02-27 10:06:49,025::SequenceDataset::INFO] Label level: 4; Num of labels: 1920\n",
      "[2024-02-27 10:06:49,670::SequenceDataset::INFO] Loaded 20889 sequences with ec labels\n",
      "[2024-02-27 10:06:49,670::SequenceDataset::INFO] Loaded 20889 sequences with ec labels\n",
      "[2024-02-27 10:06:49,671::SequenceDataset::INFO] Label level: 4; Num of labels: 1920\n",
      "[2024-02-27 10:06:49,671::SequenceDataset::INFO] Label level: 4; Num of labels: 1920\n"
     ]
    },
    {
     "data": {
      "application/vnd.jupyter.widget-view+json": {
       "model_id": "eacae080064f4d7d900dff23357b0d3b",
       "version_major": 2,
       "version_minor": 0
      },
      "text/plain": [
       "  0%|          | 0/327 [00:00<?, ?it/s]"
      ]
     },
     "metadata": {},
     "output_type": "display_data"
    },
    {
     "data": {
      "application/vnd.jupyter.widget-view+json": {
       "model_id": "c83347f9547443dfb2da9cdf74b7eec6",
       "version_major": 2,
       "version_minor": 0
      },
      "text/plain": [
       "  0%|          | 0/41 [00:00<?, ?it/s]"
      ]
     },
     "metadata": {},
     "output_type": "display_data"
    }
   ],
   "source": [
    "import sys\n",
    "sys.path.append('..')\n",
    "import torch\n",
    "from torch.utils.data import DataLoader\n",
    "import torch.nn.functional as F\n",
    "from utils import commons\n",
    "from models.mlp import MLPModel\n",
    "from datasets.sequence_dataset import SingleLabelSequenceDataset\n",
    "import matplotlib.pyplot as plt\n",
    "import numpy as np\n",
    "import os, json\n",
    "import seaborn as sns\n",
    "from tqdm.auto import tqdm\n",
    "from sklearn.manifold import TSNE\n",
    "\n",
    "device = 'cuda:0'\n",
    "\n",
    "def generate_embeddings(model, dataloader, label_list):\n",
    "    embeddings, labels, preds = [], [], []\n",
    "    with torch.no_grad():\n",
    "        for data, label in tqdm(dataloader):\n",
    "            output, feature = model(data.to(device))\n",
    "            embeddings.append(commons.toCPU(feature))\n",
    "            label = label.tolist()\n",
    "            label = [label_list[i] for i in label]\n",
    "            labels.extend(label)\n",
    "            pred = torch.argmax(output, dim=1).tolist()\n",
    "            pred = [label_list[i] for i in pred]\n",
    "            preds.extend(pred)\n",
    "    embeddings = torch.cat(embeddings, dim=0)\n",
    "    assert len(embeddings) == len(labels)\n",
    "    return embeddings, labels, preds\n",
    "\n",
    "def get_ec2occurance(data_file, label_file):\n",
    "    data = torch.load(data_file)\n",
    "    with open(label_file, 'r') as f:\n",
    "        label_list = json.load(f)\n",
    "    ec2occurance = {label: 0 for label in label_list}\n",
    "    for k, v in data.items():\n",
    "        for label in v['ec']:\n",
    "            ec2occurance[label] += 1\n",
    "    \n",
    "    return ec2occurance, label_list\n",
    "\n",
    "def get_label2mean(embeddings, labels):\n",
    "    label2embeddings = {label: [] for label in labels}\n",
    "    assert len(embeddings) == len(labels), f'{len(embeddings)} != {len(labels)}'\n",
    "    n = len(embeddings)\n",
    "    for i in range(n):\n",
    "        label2embeddings[labels[i]].append(embeddings[i])\n",
    "    label2mean = {label: torch.stack(embeddings).mean(dim=0) for label, embeddings in label2embeddings.items()}\n",
    "    return label2mean\n",
    "\n",
    "def get_pairwise_angle(means):\n",
    "    g_mean = means.mean(dim=0)\n",
    "    centered_mean = means - g_mean\n",
    "    means_ = F.normalize(centered_mean, p=2, dim=1)\n",
    "    cosine = torch.matmul(means_, means_.t())\n",
    "    angles = torch.acos(cosine)\n",
    "    for i in range(angles.size(0)):\n",
    "        angles[i, i] = 0\n",
    "    \n",
    "    return angles\n",
    "\n",
    "# model_dir = '../logs/train_mlp_single_label_CE_2024_02_13__09_48_52'\n",
    "model_dir = '../logs_nc2_v2/train_mlp_single_label_NC_2024_02_26__15_41_46_0.0005_0.01'\n",
    "test_data_file = '../data/ec/sprot_10_1022_esm2_t33_ec_above_10_single_label_test.pt'\n",
    "train_data_file = '../data/ec/sprot_10_1022_esm2_t33_ec_above_10_single_label_train.pt'\n",
    "label_file = '../data/ec/swissprot_ec_list_above_10.json'\n",
    "\n",
    "# dataset\n",
    "trainset = SingleLabelSequenceDataset(train_data_file, label_file)\n",
    "testset = SingleLabelSequenceDataset(test_data_file, label_file)\n",
    "train_loader = DataLoader(trainset, batch_size=512, shuffle=False)\n",
    "test_loader = DataLoader(testset, batch_size=512, shuffle=False)\n",
    "with open(label_file, 'r') as f:\n",
    "    label_list = json.load(f)\n",
    "label2idx = {label: i for i, label in enumerate(label_list)}\n",
    "ec2occurance, label_list = get_ec2occurance(train_data_file, label_file)\n",
    "\n",
    "config = commons.load_config(os.path.join(model_dir, 'config.yml'))\n",
    "model = globals()[config.model.model_type](config.model)\n",
    "ckpt = torch.load(os.path.join(model_dir, 'checkpoints/best_checkpoints.pt'))\n",
    "model.load_state_dict(ckpt)\n",
    "model.eval()\n",
    "model.to(device)\n",
    "\n",
    "train_embeddings, train_labels, train_preds = generate_embeddings(model, train_loader, label_list)\n",
    "test_embeddings, test_labels, test_preds = generate_embeddings(model, test_loader, label_list)\n",
    "train_label2mean = get_label2mean(train_embeddings, train_labels)\n",
    "test_label2mean = get_label2mean(test_embeddings, test_labels)"
   ]
  },
  {
   "cell_type": "code",
   "execution_count": 8,
   "metadata": {},
   "outputs": [
    {
     "name": "stdout",
     "output_type": "stream",
     "text": [
      "0: 7.6.2.7 (4) -> 7.6.2.14 (27) * 20;      \tangle: 0.3929\n",
      "1: 4.2.1.32 (2) -> 3.5.4.27 (14) * 5;      \tangle: 0.5068\n",
      "1: 4.2.1.32 (2) -> 2.1.1.195 (51) * 1;      \tangle: 0.7849\n",
      "1: 4.2.1.32 (2) -> 4.2.3.5 (690) * 1;      \tangle: 0.8067\n",
      "2: 1.3.1.12 (3) -> 1.1.1.22 (34) * 14;      \tangle: 0.8896\n",
      "3: 2.7.2.7 (8) -> 2.3.1.234 (750) * 1;      \tangle: 0.6864\n",
      "3: 2.7.2.7 (8) -> 2.7.2.15 (18) * 1;      \tangle: 0.6684\n",
      "4: 1.3.7.5 (8) -> 2.7.7.6 (1574) * 1;      \tangle: 0.9182\n",
      "5: 2.1.1.298 (1) -> 2.1.1.297 (77) * 16;      \tangle: 0.7904\n",
      "6: 1.3.7.3 (8) -> 1.3.3.3 (240) * 3;      \tangle: 0.5613\n",
      "6: 1.3.7.3 (8) -> 3.1.1.96 (567) * 1;      \tangle: 0.7274\n",
      "7: 1.3.7.2 (8) -> 1.3.3.3 (240) * 1;      \tangle: 0.6807\n",
      "7: 1.3.7.2 (8) -> 1.3.7.3 (8) * 1;      \tangle: 0.3354\n",
      "7: 1.3.7.2 (8) -> 1.3.7.5 (8) * 1;      \tangle: 0.5069\n",
      "8: 4.4.1.3 (9) -> 3.5.1.103 (23) * 1;      \tangle: 0.8903\n",
      "9: 1.4.1.13 (7) -> 4.1.99.17 (438) * 2;      \tangle: 1.077\n",
      "9: 1.4.1.13 (7) -> 1.1.1.205 (89) * 1;      \tangle: 0.9968\n",
      "10: 2.10.1.1 (2) -> 3.6.1.23 (217) * 8;      \tangle: 0.7847\n",
      "10: 2.10.1.1 (2) -> 3.1.13.1 (46) * 1;      \tangle: 0.8489\n",
      "11: 1.14.15.24 (7) -> 1.10.3.11 (18) * 1;      \tangle: 0.8598\n",
      "12: 1.1.1.81 (2) -> 2.7.1.31 (5) * 1;      \tangle: 1.3428\n",
      "13: 5.4.99.18 (1) -> 2.5.1.78 (301) * 8;      \tangle: 0.719\n",
      "13: 5.4.99.18 (1) -> 2.1.2.11 (573) * 2;      \tangle: 0.7856\n",
      "13: 5.4.99.18 (1) -> 2.7.1.202 (20) * 1;      \tangle: 0.7161\n",
      "14: 2.1.1.113 (5) -> 2.1.1.72 (60) * 3;      \tangle: 0.4141\n",
      "14: 2.1.1.113 (5) -> 2.1.1.37 (60) * 1;      \tangle: 0.4895\n",
      "15: 3.1.4.58 (1) -> 6.3.4.15 (11) * 5;      \tangle: 0.6976\n",
      "15: 3.1.4.58 (1) -> 2.7.4.23 (14) * 1;      \tangle: 0.7842\n",
      "16: 4.1.2.43 (3) -> 4.3.3.6 (170) * 1;      \tangle: 0.9128\n",
      "17: 2.1.1.233 (5) -> 2.7.1.21 (218) * 1;      \tangle: 0.9774\n",
      "17: 2.1.1.233 (5) -> 2.1.1.56 (35) * 1;      \tangle: 0.7193\n",
      "18: 3.1.3.67 (4) -> 3.1.3.48 (189) * 1;      \tangle: 0.4397\n",
      "19: 1.2.7.7 (5) -> 1.2.7.1 (9) * 4;      \tangle: 0.7675\n",
      "20: 1.11.1.27 (2) -> 1.11.1.24 (198) * 1;      \tangle: 0.45\n",
      "21: 1.4.3.4 (1) -> 1.4.3.2 (63) * 3;      \tangle: 0.676\n",
      "22: 2.1.1.346 (2) -> 2.1.1.228 (288) * 1;      \tangle: 0.8763\n",
      "23: 7.3.2.7 (5) -> 2.3.1.15 (72) * 1;      \tangle: 0.8742\n",
      "24: 3.5.1.128 (8) -> 3.5.1.3 (13) * 1;      \tangle: 0.342\n",
      "25: 1.2.7.1 (9) -> 1.2.7.8 (8) * 1;      \tangle: 0.4911\n",
      "26: 1.2.7.3 (5) -> 1.2.7.8 (8) * 1;      \tangle: 0.4097\n",
      "27: 4.2.1.75 (8) -> 1.1.1.25 (470) * 3;      \tangle: 0.7312\n",
      "28: 2.5.1.9 (9) -> 1.3.7.7 (327) * 1;      \tangle: 1.1448\n",
      "28: 2.5.1.9 (9) -> 2.5.1.78 (301) * 1;      \tangle: 0.9608\n",
      "29: 2.1.1.282 (5) -> 2.7.7.6 (1574) * 5;      \tangle: 0.9389\n",
      "29: 2.1.1.282 (5) -> 3.1.26.5 (276) * 2;      \tangle: 0.8511\n",
      "30: 4.3.1.1 (2) -> 4.2.1.2 (109) * 4;      \tangle: 0.2754\n",
      "31: 2.1.1.211 (6) -> 2.1.1.228 (288) * 1;      \tangle: 0.908\n",
      "32: 1.4.1.2 (8) -> 1.4.1.3 (37) * 6;      \tangle: 0.323\n",
      "33: 2.4.1.187 (2) -> 2.4.1.180 (18) * 8;      \tangle: 0.3748\n",
      "34: 3.5.4.10 (9) -> 3.1.1.96 (567) * 1;      \tangle: 0.6319\n",
      "34: 3.5.4.10 (9) -> 3.5.4.19 (292) * 1;      \tangle: 0.719\n",
      "35: 6.5.1.9 (3) -> 2.4.2.17 (311) * 1;      \tangle: 0.8472\n",
      "36: 4.4.1.28 (5) -> 3.7.1.3 (83) * 1;      \tangle: 1.1883\n",
      "36: 4.4.1.28 (5) -> 4.4.1.14 (28) * 1;      \tangle: 1.1378\n",
      "37: 2.7.7.23 (5) -> 2.7.7.60 (170) * 1;      \tangle: 1.1376\n",
      "37: 2.7.7.23 (5) -> 1.1.1.49 (54) * 1;      \tangle: 0.5656\n",
      "38: 4.1.1.5 (2) -> 4.1.1.50 (260) * 2;      \tangle: 0.8824\n",
      "39: 1.5.1.49 (8) -> 1.1.1.25 (470) * 4;      \tangle: 1.006\n",
      "40: 1.1.1.408 (9) -> 1.1.1.262 (138) * 3;      \tangle: 0.4124\n",
      "41: 1.14.13.39 (5) -> 3.6.4.13 (1273) * 1;      \tangle: 0.818\n",
      "41: 1.14.13.39 (5) -> 2.3.1.286 (185) * 1;      \tangle: 0.7401\n",
      "42: 1.14.14.3 (1) -> 4.2.1.90 (47) * 2;      \tangle: 0.5683\n",
      "43: 2.3.1.101 (6) -> 6.2.1.14 (13) * 1;      \tangle: 0.7003\n",
      "44: 2.1.1.185 (2) -> 3.1.11.6 (259) * 2;      \tangle: 0.7617\n",
      "45: 4.1.99.2 (3) -> 4.1.99.1 (18) * 3;      \tangle: 0.1804\n",
      "46: 3.5.1.49 (5) -> 3.5.1.4 (26) * 1;      \tangle: 0.4595\n",
      "46: 3.5.1.49 (5) -> 4.2.1.3 (32) * 1;      \tangle: 1.1421\n",
      "47: 4.99.1.2 (0) -> 3.5.1.5 (482) * 2;      \tangle: N/A\n",
      "47: 4.99.1.2 (0) -> 4.1.1.50 (260) * 1;      \tangle: N/A\n",
      "48: 4.2.3.153 (8) -> 2.5.1.3 (333) * 1;      \tangle: 0.7923\n",
      "49: 1.1.1.193 (2) -> 1.1.1.302 (12) * 1;      \tangle: 0.8949\n",
      "50: 2.1.1.193 (1) -> 2.7.7.60 (170) * 1;      \tangle: 0.9599\n",
      "50: 2.1.1.193 (1) -> 2.1.1.170 (132) * 1;      \tangle: 0.885\n",
      "50: 2.1.1.193 (1) -> 3.1.11.6 (259) * 1;      \tangle: 0.914\n",
      "50: 2.1.1.193 (1) -> 2.1.1.177 (227) * 1;      \tangle: 0.9009\n",
      "51: 2.7.1.32 (4) -> 2.7.1.82 (11) * 2;      \tangle: 0.3866\n",
      "52: 1.11.1.12 (3) -> 1.11.1.9 (36) * 2;      \tangle: 0.5065\n",
      "52: 1.11.1.12 (3) -> 1.11.1.24 (198) * 1;      \tangle: 0.7154\n",
      "53: 2.3.3.21 (5) -> 2.3.3.13 (416) * 3;      \tangle: 0.3091\n",
      "54: 2.4.2.44 (6) -> 2.4.2.1 (221) * 1;      \tangle: 0.6376\n",
      "55: 3.1.1.45 (6) -> 1.11.1.26 (29) * 1;      \tangle: 0.8719\n",
      "56: 3.1.3.23 (7) -> 3.1.3.87 (10) * 1;      \tangle: 0.6251\n",
      "57: 2.3.1.178 (2) -> 2.3.1.57 (21) * 1;      \tangle: 0.853\n",
      "58: 3.6.1.43 (7) -> 3.1.3.27 (8) * 1;      \tangle: 0.7898\n",
      "59: 1.13.11.24 (6) -> 1.13.11.5 (85) * 1;      \tangle: 0.8663\n",
      "60: 2.7.1.74 (0) -> 2.7.4.9 (218) * 1;      \tangle: N/A\n",
      "61: 3.1.3.15 (5) -> 3.5.1.105 (56) * 2;      \tangle: 0.8716\n",
      "61: 3.1.3.15 (5) -> 3.1.4.46 (26) * 1;      \tangle: 1.0382\n",
      "62: 5.2.1.2 (4) -> 2.5.1.18 (258) * 2;      \tangle: 0.5772\n",
      "63: 3.6.1.11 (8) -> 3.6.1.40 (24) * 2;      \tangle: 0.5295\n",
      "64: 2.7.1.31 (5) -> 2.7.2.3 (344) * 2;      \tangle: 0.803\n",
      "65: 3.6.1.12 (4) -> 3.1.3.89 (78) * 2;      \tangle: 0.8622\n",
      "66: 1.2.1.28 (3) -> 6.1.1.10 (488) * 1;      \tangle: 1.0422\n"
     ]
    }
   ],
   "source": [
    "from collections import Counter\n",
    "\n",
    "def get_angle(vec1, vec2):\n",
    "    cosine = torch.dot(vec1, vec2) / (torch.norm(vec1) * torch.norm(vec2))\n",
    "    return round(torch.acos(cosine).item(), 4)\n",
    "\n",
    "n = len(test_preds)\n",
    "k = 0\n",
    "gt2preds = {}\n",
    "for i in range(n):\n",
    "    if test_preds[i] != test_labels[i] and ec2occurance[test_labels[i]] < 10:\n",
    "        if test_labels[i] not in gt2preds:\n",
    "            gt2preds[test_labels[i]] = []\n",
    "        gt2preds[test_labels[i]].append(test_preds[i])\n",
    "        # print(f'{k}: {test_labels[i]} ({ec2occurance[test_labels[i]]}) -> {test_preds[i]} ({ec2occurance[test_preds[i]]})')\n",
    "        # k += 1\n",
    "for i, (gt, preds) in enumerate(gt2preds.items()):\n",
    "    # given preds, return a list where each element is [pred, occurance of pred in preds]\n",
    "    preds = Counter(preds).most_common()\n",
    "    for pred, occurance in preds:\n",
    "        print(f'{i}: {gt} ({ec2occurance[gt]}) -> {pred} ({ec2occurance[pred]}) * {occurance};      \\tangle: {get_angle(train_label2mean[gt], train_label2mean[pred]) if gt in train_label2mean and pred in train_label2mean else \"N/A\"}')\n"
   ]
  },
  {
   "cell_type": "code",
   "execution_count": 3,
   "metadata": {},
   "outputs": [
    {
     "data": {
      "text/plain": [
       "tensor(1.5713)"
      ]
     },
     "execution_count": 3,
     "metadata": {},
     "output_type": "execute_result"
    }
   ],
   "source": [
    "torch.acos(torch.tensor(-1 / 1919))"
   ]
  },
  {
   "cell_type": "code",
   "execution_count": 4,
   "metadata": {},
   "outputs": [
    {
     "data": {
      "text/plain": [
       "904"
      ]
     },
     "execution_count": 4,
     "metadata": {},
     "output_type": "execute_result"
    }
   ],
   "source": [
    "le10 = 0\n",
    "for ec in test_labels:\n",
    "    if ec2occurance[ec] < 10:\n",
    "        le10 += 1\n",
    "le10"
   ]
  },
  {
   "cell_type": "code",
   "execution_count": null,
   "metadata": {},
   "outputs": [],
   "source": []
  }
 ],
 "metadata": {
  "kernelspec": {
   "display_name": "protein",
   "language": "python",
   "name": "python3"
  },
  "language_info": {
   "codemirror_mode": {
    "name": "ipython",
    "version": 3
   },
   "file_extension": ".py",
   "mimetype": "text/x-python",
   "name": "python",
   "nbconvert_exporter": "python",
   "pygments_lexer": "ipython3",
   "version": "3.8.18"
  }
 },
 "nbformat": 4,
 "nbformat_minor": 2
}
