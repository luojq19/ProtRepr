{
 "cells": [
  {
   "cell_type": "code",
   "execution_count": 7,
   "metadata": {},
   "outputs": [
    {
     "name": "stdout",
     "output_type": "stream",
     "text": [
      "Cached: 208885, Uncached: 27219\n"
     ]
    }
   ],
   "source": [
    "import torch\n",
    "import pandas as pd\n",
    "from Bio import SeqIO\n",
    "\n",
    "data = torch.load('../data/ec/sprot_10_1022_esm1b_t33_ec_above_10_single_label.pt')\n",
    "cached_pids = list(data.keys())\n",
    "df = pd.read_csv('../data/ec/swissprot_complete_ec.csv')\n",
    "all_pids = df['Entry'].tolist()\n",
    "uncached_pids = list(set(all_pids) - set(cached_pids))\n",
    "print(f'Cached: {len(cached_pids)}, Uncached: {len(uncached_pids)}')\n",
    "records = list(SeqIO.parse('../data/swissprot/uniprot_sprot_10_1022.fasta', 'fasta'))\n",
    "pid2seq = {record.id.split('|')[1]: str(record.seq) for record in records}\n",
    "uncached_pid_seq = [f'>{pid}\\n{pid2seq[pid]}\\n' if pid in pid2seq else '' for pid in uncached_pids]\n",
    "with open('../data/ec/multilabel/sprot_10_1022_uncached.fasta', 'w') as f:\n",
    "    f.write(''.join(uncached_pid_seq))"
   ]
  },
  {
   "cell_type": "code",
   "execution_count": 1,
   "metadata": {},
   "outputs": [
    {
     "name": "stdout",
     "output_type": "stream",
     "text": [
      "208885\n",
      "19666\n",
      "228551\n"
     ]
    }
   ],
   "source": [
    "import torch\n",
    "import pandas as pd\n",
    "from Bio import SeqIO\n",
    "\n",
    "df = pd.read_csv('../data/ec/swissprot_complete_ec.csv')\n",
    "pids = df['Entry'].tolist()\n",
    "ecs = df['EC number'].tolist()\n",
    "pid2ecs = {pid: ec.split(';') for pid, ec in zip(pids, ecs)}\n",
    "data1 = torch.load('../data/ec/sprot_10_1022_esm1b_t33_ec_above_10_single_label.pt')\n",
    "print(len(data1))\n",
    "data2 = torch.load('../data/ec/multilabel/esm1b_t33_sprot_10_1022_uncached.pt')\n",
    "print(len(data2))\n",
    "for pid, emb in data2.items():\n",
    "    data1[pid] = {'embedding': emb, 'ec': pid2ecs[pid]}\n",
    "print(len(data1))\n",
    "torch.save(data1, '../data/ec/multilabel/sprot_10_1022_esm1b_t33.pt')"
   ]
  },
  {
   "cell_type": "code",
   "execution_count": 2,
   "metadata": {},
   "outputs": [
    {
     "name": "stdout",
     "output_type": "stream",
     "text": [
      "Mean: 45.691654078549846, Max: 2176, Min: 1\n"
     ]
    }
   ],
   "source": [
    "ec2occurance = {}\n",
    "for k, v in data1.items():\n",
    "    for ec in v['ec']:\n",
    "        ec2occurance[ec] = ec2occurance.get(ec, 0) + 1\n",
    "occurances = list(ec2occurance.values())\n",
    "print(f'Mean: {sum(occurances) / len(occurances)}, Max: {max(occurances)}, Min: {min(occurances)}')"
   ]
  },
  {
   "cell_type": "code",
   "execution_count": 4,
   "metadata": {},
   "outputs": [
    {
     "name": "stdout",
     "output_type": "stream",
     "text": [
      "228551\n",
      "182840 45711\n",
      "45362\n"
     ]
    }
   ],
   "source": [
    "import torch\n",
    "import random\n",
    "\n",
    "random.seed(0)\n",
    "data = torch.load('../data/ec/multilabel/sprot_10_1022_esm1b_t33.pt')\n",
    "print(len(data))\n",
    "pids = list(data.keys())\n",
    "random.shuffle(pids)\n",
    "train_val_pids = pids[:int(0.8 * len(pids))]\n",
    "test_pids = pids[int(0.8 * len(pids)):]\n",
    "train_val_data = {pid: data[pid] for pid in train_val_pids}\n",
    "test_data = {pid: data[pid] for pid in test_pids}\n",
    "print(len(train_val_data), len(test_data))\n",
    "torch.save(train_val_data, '../data/ec/multilabel/sprot_10_1022_esm1b_t33_train_val.pt')\n",
    "torch.save(test_data, '../data/ec/multilabel/sprot_10_1022_esm1b_t33_test.pt')\n",
    "train_val_ecs = []\n",
    "for pid, v in train_val_data.items():\n",
    "    train_val_ecs.extend(v['ec'])\n",
    "train_val_ecs = list(set(train_val_ecs))\n",
    "filtered_test_data = {}\n",
    "for pid, v in test_data.items():\n",
    "    ecs = v['ec']\n",
    "    if all(ec in train_val_ecs for ec in ecs):\n",
    "        filtered_test_data[pid] = v\n",
    "print(len(filtered_test_data))\n",
    "torch.save(filtered_test_data, '../data/ec/multilabel/sprot_10_1022_esm1b_t33_test_filtered.pt')"
   ]
  },
  {
   "cell_type": "code",
   "execution_count": 1,
   "metadata": {},
   "outputs": [
    {
     "name": "stdout",
     "output_type": "stream",
     "text": [
      "159985 22855\n"
     ]
    }
   ],
   "source": [
    "import torch\n",
    "import random\n",
    "\n",
    "random.seed(42)\n",
    "data = torch.load('../data/ec/multilabel/sprot_10_1022_esm1b_t33_train_val.pt')\n",
    "pids = list(data.keys())\n",
    "random.shuffle(pids)\n",
    "train_pids = pids[:int(0.875 * len(pids))]\n",
    "val_pids = pids[int(0.875 * len(pids)):]\n",
    "train_data = {pid: data[pid] for pid in train_pids}\n",
    "val_data = {pid: data[pid] for pid in val_pids}\n",
    "print(len(train_data), len(val_data))\n",
    "torch.save(train_data, '../data/ec/multilabel/sprot_10_1022_esm1b_t33_train.pt')\n",
    "torch.save(val_data, '../data/ec/multilabel/sprot_10_1022_esm1b_t33_val.pt')\n"
   ]
  },
  {
   "cell_type": "code",
   "execution_count": 1,
   "metadata": {},
   "outputs": [
    {
     "name": "stdout",
     "output_type": "stream",
     "text": [
      "num_labels: 4966\n"
     ]
    }
   ],
   "source": [
    "import torch\n",
    "import random,json\n",
    "\n",
    "random.seed(42)\n",
    "data = torch.load('../data/ec/multilabel/sprot_10_1022_esm1b_t33_train_val.pt')\n",
    "label_list = []\n",
    "for k, v in data.items():\n",
    "    label_list.extend(v['ec'])\n",
    "label_list = list(set(label_list))\n",
    "print(f'num_labels: {len(label_list)}')\n",
    "test_data = torch.load('../data/ec/multilabel/sprot_10_1022_esm1b_t33_test_filtered.pt')\n",
    "for k, v in test_data.items():\n",
    "    for ec in v['ec']:\n",
    "        assert ec in label_list\n",
    "with open('../data/ec/multilabel/label_list_train_val.json', 'w') as f:\n",
    "    json.dump(label_list, f)"
   ]
  },
  {
   "cell_type": "code",
   "execution_count": 2,
   "metadata": {},
   "outputs": [
    {
     "name": "stdout",
     "output_type": "stream",
     "text": [
      "test labels: 2880\n"
     ]
    }
   ],
   "source": [
    "test_labels = []\n",
    "for k, v in test_data.items():\n",
    "    test_labels.extend(v['ec'])\n",
    "test_labels = list(set(test_labels))\n",
    "print(f'test labels: {len(test_labels)}')"
   ]
  },
  {
   "cell_type": "code",
   "execution_count": 1,
   "metadata": {},
   "outputs": [
    {
     "name": "stdout",
     "output_type": "stream",
     "text": [
      "num_ecs: 5242\n"
     ]
    }
   ],
   "source": [
    "import pandas as pd\n",
    "\n",
    "df = pd.read_csv('/work/jiaqi/CLEAN_original/app/data/split100.csv', sep='\\t')\n",
    "ec_nums = df['EC number'].tolist()\n",
    "ec_nums = ';'.join(ec_nums)\n",
    "ec_nums = list(set(ec_nums.split(';')))\n",
    "print(f'num_ecs: {len(ec_nums)}')"
   ]
  },
  {
   "cell_type": "code",
   "execution_count": null,
   "metadata": {},
   "outputs": [],
   "source": []
  }
 ],
 "metadata": {
  "kernelspec": {
   "display_name": "protrepr",
   "language": "python",
   "name": "python3"
  },
  "language_info": {
   "codemirror_mode": {
    "name": "ipython",
    "version": 3
   },
   "file_extension": ".py",
   "mimetype": "text/x-python",
   "name": "python",
   "nbconvert_exporter": "python",
   "pygments_lexer": "ipython3",
   "version": "3.8.19"
  }
 },
 "nbformat": 4,
 "nbformat_minor": 2
}
