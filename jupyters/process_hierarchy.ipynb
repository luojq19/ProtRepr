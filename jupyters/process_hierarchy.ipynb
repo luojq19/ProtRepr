{
 "cells": [
  {
   "cell_type": "code",
   "execution_count": 1,
   "metadata": {},
   "outputs": [
    {
     "name": "stdout",
     "output_type": "stream",
     "text": [
      "1920 ['1.1.1.1', '1.1.1.10', '1.1.1.100', '1.1.1.102', '1.1.1.103']\n",
      "7 67 211 1920\n",
      "2205 ['6', '1', '5', '7', '2', '3', '4', '1.5', '1.14', '4.1']\n",
      "tensor([[1., 0., 0.,  ..., 0., 0., 0.],\n",
      "        [0., 1., 0.,  ..., 0., 1., 0.],\n",
      "        [0., 0., 1.,  ..., 0., 0., 0.],\n",
      "        ...,\n",
      "        [0., 0., 0.,  ..., 1., 0., 0.],\n",
      "        [0., 0., 0.,  ..., 0., 1., 0.],\n",
      "        [0., 0., 0.,  ..., 0., 0., 1.]])\n",
      "tensor(8454.)\n",
      "tensor([1., 1., 1.,  ..., 4., 4., 4.])\n"
     ]
    }
   ],
   "source": [
    "import json\n",
    "import torch\n",
    "\n",
    "def get_ec_level(ec, level):\n",
    "    return '.'.join(ec.split('.')[:level])\n",
    "\n",
    "def ec_level(ec):\n",
    "    return len(ec.split('.'))\n",
    "\n",
    "with open('../data/ec/swissprot_ec_list_above_10.json') as f:\n",
    "    ec_list = json.load(f)\n",
    "print(len(ec_list), ec_list[:5])\n",
    "all_level_ec_list = []\n",
    "level_1_ec_list = list(set([get_ec_level(ec, 1) for ec in ec_list]))\n",
    "level_2_ec_list = list(set([get_ec_level(ec, 2) for ec in ec_list]))\n",
    "level_3_ec_list = list(set([get_ec_level(ec, 3) for ec in ec_list]))\n",
    "level_4_ec_list = list(set([get_ec_level(ec, 4) for ec in ec_list]))\n",
    "print(len(level_1_ec_list), len(level_2_ec_list), len(level_3_ec_list), len(level_4_ec_list))\n",
    "with open('../data/ec/swissprot_ec_list_above_10_level_1.json', 'w') as f:\n",
    "    json.dump(level_1_ec_list, f)\n",
    "with open('../data/ec/swissprot_ec_list_above_10_level_2.json', 'w') as f:\n",
    "    json.dump(level_2_ec_list, f)\n",
    "with open('../data/ec/swissprot_ec_list_above_10_level_3.json', 'w') as f:\n",
    "    json.dump(level_3_ec_list, f)\n",
    "with open('../data/ec/swissprot_ec_list_above_10_level_4.json', 'w') as f:\n",
    "    json.dump(level_4_ec_list, f)\n",
    "all_level_ec_list = level_1_ec_list + level_2_ec_list + level_3_ec_list + level_4_ec_list\n",
    "print(len(all_level_ec_list), all_level_ec_list[:10])\n",
    "# Child Matrix: CM_ij = 1 if the jth EC number is a subclass of the ith EC number\n",
    "CM = torch.zeros(len(all_level_ec_list), len(all_level_ec_list))\n",
    "for i, ec in enumerate(all_level_ec_list):\n",
    "    for j, ec2 in enumerate(all_level_ec_list):\n",
    "        if get_ec_level(ec2, ec_level(ec)) == ec:\n",
    "            CM[i, j] = 1\n",
    "print(CM)\n",
    "print(CM.sum())\n",
    "print(CM.sum(0))\n",
    "torch.save(CM, '../data/ec/CM_EC_all_level_label_above_10.pt')\n",
    "with open('../data/ec/all_level_ec_list_above_10.json', 'w') as f:\n",
    "    json.dump(all_level_ec_list, f)"
   ]
  },
  {
   "cell_type": "code",
   "execution_count": 2,
   "metadata": {},
   "outputs": [
    {
     "name": "stdout",
     "output_type": "stream",
     "text": [
      "[0, 17, 121, 2204]\n",
      "['3', '3.6', '3.6.1', '3.6.1.75']\n"
     ]
    }
   ],
   "source": [
    "test = CM[:, -1]\n",
    "test, test.sum()\n",
    "one_indices = []\n",
    "for i in range(len(test)):\n",
    "    if test[i] == 1:\n",
    "        one_indices.append(i)\n",
    "print(one_indices)\n",
    "print([all_level_ec_list[i] for i in one_indices])"
   ]
  },
  {
   "cell_type": "code",
   "execution_count": 4,
   "metadata": {},
   "outputs": [
    {
     "data": {
      "text/plain": [
       "tensor(4.)"
      ]
     },
     "execution_count": 4,
     "metadata": {},
     "output_type": "execute_result"
    }
   ],
   "source": [
    "CM.sum(0).max()"
   ]
  },
  {
   "cell_type": "code",
   "execution_count": null,
   "metadata": {},
   "outputs": [],
   "source": []
  }
 ],
 "metadata": {
  "kernelspec": {
   "display_name": "protein",
   "language": "python",
   "name": "python3"
  },
  "language_info": {
   "codemirror_mode": {
    "name": "ipython",
    "version": 3
   },
   "file_extension": ".py",
   "mimetype": "text/x-python",
   "name": "python",
   "nbconvert_exporter": "python",
   "pygments_lexer": "ipython3",
   "version": "3.8.0"
  }
 },
 "nbformat": 4,
 "nbformat_minor": 2
}
