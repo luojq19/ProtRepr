{
 "cells": [
  {
   "cell_type": "code",
   "execution_count": 1,
   "metadata": {},
   "outputs": [
    {
     "name": "stdout",
     "output_type": "stream",
     "text": [
      "5961\n"
     ]
    }
   ],
   "source": [
    "import torch\n",
    "import json\n",
    "import pandas as pd\n",
    "\n",
    "train_data = pd.read_csv('/work/jiaqi/ProtRepr/data/ec_new/swissprot_ec_complete_by2022-05-25.csv')\n",
    "test_data = pd.read_csv('/work/jiaqi/ProtRepr/data/ec_new/swissprot_ec_complete_after_2022-05-25_filtered.csv')\n",
    "ontology = 'EC number'\n",
    "train_labels = set(train_data[ontology].tolist())\n",
    "test_labels = set(test_data[ontology].tolist())\n",
    "labels = train_labels.union(test_labels)\n",
    "print(len(labels))\n",
    "with open('/work/jiaqi/ProtRepr/data/ec_new/ec_list_2022-05-25_multilabel_merge.json', 'w') as f:\n",
    "    json.dump(list(labels), f)"
   ]
  },
  {
   "cell_type": "code",
   "execution_count": 2,
   "metadata": {},
   "outputs": [
    {
     "name": "stdout",
     "output_type": "stream",
     "text": [
      "7783\n"
     ]
    }
   ],
   "source": [
    "train_data = pd.read_csv('/work/jiaqi/ProtRepr/data/gene3D_new/swissprot_gene3D_by2022-05-25.csv')\n",
    "test_data = pd.read_csv('/work/jiaqi/ProtRepr/data/gene3D_new/swissprot_gene3D_after_2022-05-25_filtered.csv')\n",
    "ontology = 'Gene3D'\n",
    "train_labels = set(train_data[ontology].tolist())\n",
    "test_labels = set(test_data[ontology].tolist())\n",
    "labels = train_labels.union(test_labels)\n",
    "print(len(labels))\n",
    "with open('/work/jiaqi/ProtRepr/data/gene3D_new/gene3D_labels_2022-05-25_multilabel_merge.json', 'w') as f:\n",
    "    json.dump(list(labels), f)"
   ]
  },
  {
   "cell_type": "code",
   "execution_count": 3,
   "metadata": {},
   "outputs": [
    {
     "name": "stdout",
     "output_type": "stream",
     "text": [
      "18685\n"
     ]
    }
   ],
   "source": [
    "train_data = pd.read_csv('/work/jiaqi/ProtRepr/data/pfam_new/swissprot_pfam_by2022-05-25.csv')\n",
    "test_data = pd.read_csv('/work/jiaqi/ProtRepr/data/pfam_new/swissprot_pfam_after_2022-05-25_filtered.csv')\n",
    "ontology = 'Pfam'\n",
    "train_labels = set(train_data[ontology].tolist())\n",
    "test_labels = set(test_data[ontology].tolist())\n",
    "labels = train_labels.union(test_labels)\n",
    "print(len(labels))\n",
    "with open('/work/jiaqi/ProtRepr/data/pfam_new/pfam_labels_2022-05-25_multilabel_merge.json', 'w') as f:\n",
    "    json.dump(list(labels), f)"
   ]
  },
  {
   "cell_type": "code",
   "execution_count": 7,
   "metadata": {},
   "outputs": [
    {
     "name": "stdout",
     "output_type": "stream",
     "text": [
      "27 [10, 25, 28, 29, 61, 69, 70, 71, 88, 105, 109, 158, 190, 210, 277, 300, 329, 344, 361, 402, 422, 469, 472, 483, 486, 519, 567]\n",
      "torch.Size([571, 5961])\n",
      "tensor([[1., 1., 1.,  ..., 1., 1., 1.],\n",
      "        [1., 1., 1.,  ..., 1., 1., 1.],\n",
      "        [1., 1., 1.,  ..., 1., 1., 1.],\n",
      "        ...,\n",
      "        [1., 1., 1.,  ..., 1., 1., 1.],\n",
      "        [1., 1., 1.,  ..., 1., 1., 1.],\n",
      "        [1., 1., 1.,  ..., 1., 1., 1.]])\n"
     ]
    }
   ],
   "source": [
    "import torch\n",
    "\n",
    "data = torch.load('/work/jiaqi/ProtRepr/predictions_top1.pt')\n",
    "# print(data, data.sum(dim=1), data.sum(dim=1).max())\n",
    "s = data.sum(dim=1)\n",
    "dist_mat = torch.load('/work/jiaqi/ProtRepr/dist_mat.pt')\n",
    "indices = []\n",
    "for i in range(len(s)):\n",
    "    if s[i] == 5961:\n",
    "        indices.append(i)\n",
    "print(len(indices), indices)\n",
    "print(dist_mat.shape)\n",
    "print(dist_mat[indices, :])"
   ]
  },
  {
   "cell_type": "code",
   "execution_count": 12,
   "metadata": {},
   "outputs": [
    {
     "name": "stdout",
     "output_type": "stream",
     "text": [
      "tensor([[1, 0, 0, 0],\n",
      "        [0, 1, 0, 0],\n",
      "        [0, 0, 0, 0],\n",
      "        [1, 0, 0, 0]])\n"
     ]
    }
   ],
   "source": [
    "import torch\n",
    "\n",
    "def randomize_ones(tensor):\n",
    "    # Identify rows with more than one 1\n",
    "    multiple_ones = tensor.sum(dim=1) > 1\n",
    "    \n",
    "    # Iterate over each row with multiple 1s\n",
    "    for i in torch.where(multiple_ones)[0]:\n",
    "        # Get indices where the value is 1\n",
    "        ones_indices = tensor[i].nonzero(as_tuple=True)[0]\n",
    "        # Randomly choose one index to keep, set others to 0\n",
    "        keep_index = ones_indices[torch.randint(len(ones_indices), (1,))]\n",
    "        tensor[i] = 0  # Set all elements to 0\n",
    "        tensor[i, keep_index] = 1  # Set randomly chosen index to 1\n",
    "\n",
    "    return tensor\n",
    "\n",
    "# Example tensor\n",
    "tensor = torch.tensor([\n",
    "    [1, 0, 1, 0],\n",
    "    [0, 1, 0, 1],\n",
    "    [0, 0, 0, 0],\n",
    "    [1, 0, 0, 0]\n",
    "])\n",
    "\n",
    "result = randomize_ones(tensor)\n",
    "print(result)\n"
   ]
  },
  {
   "cell_type": "code",
   "execution_count": 3,
   "metadata": {},
   "outputs": [
    {
     "data": {
      "text/plain": [
       "553.8461538461538"
      ]
     },
     "execution_count": 3,
     "metadata": {},
     "output_type": "execute_result"
    }
   ],
   "source": [
    "20*3600 / 130"
   ]
  },
  {
   "cell_type": "code",
   "execution_count": 4,
   "metadata": {},
   "outputs": [
    {
     "name": "stdout",
     "output_type": "stream",
     "text": [
      "14723\n"
     ]
    }
   ],
   "source": [
    "import json\n",
    "with open('/work/jiaqi/ProtRepr/data/pfam_new/pfam_labels_by2022-05-25.json') as f:\n",
    "    ec_list = json.load(f)\n",
    "print(len(ec_list))"
   ]
  },
  {
   "cell_type": "code",
   "execution_count": null,
   "metadata": {},
   "outputs": [],
   "source": []
  }
 ],
 "metadata": {
  "kernelspec": {
   "display_name": "protrepr",
   "language": "python",
   "name": "python3"
  },
  "language_info": {
   "codemirror_mode": {
    "name": "ipython",
    "version": 3
   },
   "file_extension": ".py",
   "mimetype": "text/x-python",
   "name": "python",
   "nbconvert_exporter": "python",
   "pygments_lexer": "ipython3",
   "version": "3.8.19"
  }
 },
 "nbformat": 4,
 "nbformat_minor": 2
}
